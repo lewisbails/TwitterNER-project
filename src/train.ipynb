{
  "nbformat": 4,
  "nbformat_minor": 0,
  "metadata": {
    "colab": {
      "name": "train.ipynb",
      "provenance": [],
      "collapsed_sections": []
    },
    "kernelspec": {
      "name": "python3",
      "display_name": "Python 3"
    },
    "accelerator": "GPU"
  },
  "cells": [
    {
      "cell_type": "markdown",
      "metadata": {
        "colab_type": "text",
        "id": "kZHKLRDkm-ne"
      },
      "outputs": [],
      "source": [
        "##Dependencies"
      ]
    },
    {
      "cell_type": "code",
      "execution_count": 1,
      "metadata": {},
      "outputs": [],
      "source": [
        "import logging\n",
        "logging.basicConfig(filename='whaaaat.log', level=logging.DEBUG)\n",
        "logging.info('Ready to log.')\n",
        "\n",
        "def log_print(text, level='info'):\n",
        "    print(text)\n",
        "    if level=='info':\n",
        "        logging.info(text)\n",
        "    elif level=='error':\n",
        "        logging.error(text)\n",
        "    else:\n",
        "        logging.debug(text)\n"
      ]
    },
    {
      "cell_type": "code",
      "execution_count": 2,
      "metadata": {},
      "outputs": [
        {
          "name": "stderr",
          "output_type": "stream",
          "text": "Using TensorFlow backend.\nC:\\Users\\Lewis.Bails\\AppData\\Local\\Continuum\\anaconda3\\lib\\site-packages\\tensorflow\\python\\framework\\dtypes.py:516: FutureWarning: Passing (type, 1) or '1type' as a synonym of type is deprecated; in a future version of numpy, it will be understood as (type, (1,)) / '(1,)type'.\n  _np_qint8 = np.dtype([(\"qint8\", np.int8, 1)])\nC:\\Users\\Lewis.Bails\\AppData\\Local\\Continuum\\anaconda3\\lib\\site-packages\\tensorflow\\python\\framework\\dtypes.py:517: FutureWarning: Passing (type, 1) or '1type' as a synonym of type is deprecated; in a future version of numpy, it will be understood as (type, (1,)) / '(1,)type'.\n  _np_quint8 = np.dtype([(\"quint8\", np.uint8, 1)])\nC:\\Users\\Lewis.Bails\\AppData\\Local\\Continuum\\anaconda3\\lib\\site-packages\\tensorflow\\python\\framework\\dtypes.py:518: FutureWarning: Passing (type, 1) or '1type' as a synonym of type is deprecated; in a future version of numpy, it will be understood as (type, (1,)) / '(1,)type'.\n  _np_qint16 = np.dtype([(\"qint16\", np.int16, 1)])\nC:\\Users\\Lewis.Bails\\AppData\\Local\\Continuum\\anaconda3\\lib\\site-packages\\tensorflow\\python\\framework\\dtypes.py:519: FutureWarning: Passing (type, 1) or '1type' as a synonym of type is deprecated; in a future version of numpy, it will be understood as (type, (1,)) / '(1,)type'.\n  _np_quint16 = np.dtype([(\"quint16\", np.uint16, 1)])\nC:\\Users\\Lewis.Bails\\AppData\\Local\\Continuum\\anaconda3\\lib\\site-packages\\tensorflow\\python\\framework\\dtypes.py:520: FutureWarning: Passing (type, 1) or '1type' as a synonym of type is deprecated; in a future version of numpy, it will be understood as (type, (1,)) / '(1,)type'.\n  _np_qint32 = np.dtype([(\"qint32\", np.int32, 1)])\nC:\\Users\\Lewis.Bails\\AppData\\Local\\Continuum\\anaconda3\\lib\\site-packages\\tensorflow\\python\\framework\\dtypes.py:525: FutureWarning: Passing (type, 1) or '1type' as a synonym of type is deprecated; in a future version of numpy, it will be understood as (type, (1,)) / '(1,)type'.\n  np_resource = np.dtype([(\"resource\", np.ubyte, 1)])\nC:\\Users\\Lewis.Bails\\AppData\\Local\\Continuum\\anaconda3\\lib\\site-packages\\tensorboard\\compat\\tensorflow_stub\\dtypes.py:541: FutureWarning: Passing (type, 1) or '1type' as a synonym of type is deprecated; in a future version of numpy, it will be understood as (type, (1,)) / '(1,)type'.\n  _np_qint8 = np.dtype([(\"qint8\", np.int8, 1)])\nC:\\Users\\Lewis.Bails\\AppData\\Local\\Continuum\\anaconda3\\lib\\site-packages\\tensorboard\\compat\\tensorflow_stub\\dtypes.py:542: FutureWarning: Passing (type, 1) or '1type' as a synonym of type is deprecated; in a future version of numpy, it will be understood as (type, (1,)) / '(1,)type'.\n  _np_quint8 = np.dtype([(\"quint8\", np.uint8, 1)])\nC:\\Users\\Lewis.Bails\\AppData\\Local\\Continuum\\anaconda3\\lib\\site-packages\\tensorboard\\compat\\tensorflow_stub\\dtypes.py:543: FutureWarning: Passing (type, 1) or '1type' as a synonym of type is deprecated; in a future version of numpy, it will be understood as (type, (1,)) / '(1,)type'.\n  _np_qint16 = np.dtype([(\"qint16\", np.int16, 1)])\nC:\\Users\\Lewis.Bails\\AppData\\Local\\Continuum\\anaconda3\\lib\\site-packages\\tensorboard\\compat\\tensorflow_stub\\dtypes.py:544: FutureWarning: Passing (type, 1) or '1type' as a synonym of type is deprecated; in a future version of numpy, it will be understood as (type, (1,)) / '(1,)type'.\n  _np_quint16 = np.dtype([(\"quint16\", np.uint16, 1)])\nC:\\Users\\Lewis.Bails\\AppData\\Local\\Continuum\\anaconda3\\lib\\site-packages\\tensorboard\\compat\\tensorflow_stub\\dtypes.py:545: FutureWarning: Passing (type, 1) or '1type' as a synonym of type is deprecated; in a future version of numpy, it will be understood as (type, (1,)) / '(1,)type'.\n  _np_qint32 = np.dtype([(\"qint32\", np.int32, 1)])\nC:\\Users\\Lewis.Bails\\AppData\\Local\\Continuum\\anaconda3\\lib\\site-packages\\tensorboard\\compat\\tensorflow_stub\\dtypes.py:550: FutureWarning: Passing (type, 1) or '1type' as a synonym of type is deprecated; in a future version of numpy, it will be understood as (type, (1,)) / '(1,)type'.\n  np_resource = np.dtype([(\"resource\", np.ubyte, 1)])\nImports successful.\n"
        }
      ],
      "source": [
        "import scipy\n",
        "import pandas as pd\n",
        "import numpy as np\n",
        "import eli5\n",
        "from sklearn_crfsuite import metrics, scorers, CRF\n",
        "from sklearn.model_selection import RandomizedSearchCV\n",
        "from sklearn.metrics import make_scorer, confusion_matrix\n",
        "from sklearn.base import BaseEstimator, TransformerMixin \n",
        "import pickle\n",
        "from datetime import datetime as dt\n",
        "import spacy\n",
        "import json\n",
        "import seaborn as sns\n",
        "import matplotlib.pyplot as plt\n",
        "import os\n",
        "\n",
        "log_print('Imports successful.')"
      ]
    },
    {
      "cell_type": "markdown",
      "metadata": {
        "colab_type": "text",
        "id": "zyrpJnpfnCmP"
      },
      "outputs": [],
      "source": [
        "##Inspect"
      ]
    },
    {
      "cell_type": "code",
      "execution_count": 3,
      "metadata": {},
      "outputs": [],
      "source": [
        "def get_frames(path, k_fold=True):\n",
        "    data = {i:pd.read_csv(path+f'{i}.csv', index_col=['sentence_id','token_id']).fillna(value={'token': 'NA'}) for i in ('train','validation','test')}\n",
        "\n",
        "    if k_fold:\n",
        "        offset = data['train'].index.max(0)[0]+1\n",
        "        df = data['validation']\n",
        "        df.index = df.index.set_levels(df.index.levels[0]+offset, level=0)\n",
        "        data['train'] = pd.concat([data['train'],data['validation']], verify_integrity=True)\n",
        "\n",
        "    return data"
      ]
    },
    {
      "cell_type": "code",
      "execution_count": 4,
      "metadata": {},
      "outputs": [],
      "source": [
        "try:\n",
        "    path = '../data/' if 'src' in os.getcwd() else './data/'\n",
        "    data_conll = get_frames(path+'conll/')\n",
        "    data_wnut = get_frames(path+'wnut/')\n",
        "\n",
        "    logging.info('Frames loaded from file.')\n",
        "except Exception as e:\n",
        "    logging.error(f'Failed: {e}')\n",
        "    raise e"
      ]
    },
    {
      "cell_type": "code",
      "execution_count": 5,
      "metadata": {},
      "outputs": [],
      "source": [
        "tag_map = {\n",
        "    'B-product':'B-MISC',\n",
        "    'I-product':'I-MISC',\n",
        "    'B-creative-work':'B-MISC',\n",
        "    'I-creative-work':'I-MISC',\n",
        "    'B-corporation':'B-ORG',\n",
        "    'I-corporation':'I-ORG',\n",
        "    'B-group':'B-MISC',\n",
        "    'I-group':'I-MISC',\n",
        "    'B-person':'B-PER',\n",
        "    'I-person':'I-PER',\n",
        "    'B-location':'B-LOC',\n",
        "    'I-location':'I-LOC',\n",
        "    'O':'O'\n",
        "}"
      ]
    },
    {
      "cell_type": "code",
      "execution_count": 6,
      "metadata": {},
      "outputs": [
        {
          "name": "stdout",
          "output_type": "stream",
          "text": "Tag conversion successful. Tags: ['O', 'B-LOC', 'I-LOC', 'B-MISC', 'I-MISC', 'B-ORG', 'I-ORG', 'B-PER', 'I-PER']\n"
        }
      ],
      "source": [
        "try:\n",
        "    for frame in data_wnut.values():\n",
        "        frame['tag'] = frame['tag'].map(tag_map)\n",
        "\n",
        "    wnut_sort = sorted(data_conll['train']['tag'].unique(), key=lambda x: (x[1:],x[0]))\n",
        "    conll_sort = sorted(data_wnut['train']['tag'].unique(), key=lambda x: (x[1:],x[0]))\n",
        "\n",
        "    assert all([i==j for i,j in zip(wnut_sort,conll_sort)]), 'Mismatched tags between CoNLL and WNUT data.'\n",
        "\n",
        "    log_print(f'Tag conversion successful. Tags: {str(wnut_sort)}')\n",
        "\n",
        "except Exception as e:\n",
        "    logging.error(f'Failed: {e}')\n",
        "    raise e"
      ]
    },
    {
      "cell_type": "code",
      "execution_count": 7,
      "metadata": {},
      "outputs": [
        {
          "name": "stdout",
          "output_type": "stream",
          "text": "Testing tweets ready. Tags: ['O', 'B-LOC', 'I-LOC', 'B-MISC', 'I-MISC', 'B-ORG', 'I-ORG', 'B-PER', 'I-PER']\n"
        },
        {
          "data": {
            "text/html": "<div>\n<style scoped>\n    .dataframe tbody tr th:only-of-type {\n        vertical-align: middle;\n    }\n\n    .dataframe tbody tr th {\n        vertical-align: top;\n    }\n\n    .dataframe thead th {\n        text-align: right;\n    }\n</style>\n<table border=\"1\" class=\"dataframe\">\n  <thead>\n    <tr style=\"text-align: right;\">\n      <th></th>\n      <th></th>\n      <th>pos</th>\n      <th>dep</th>\n      <th>lemma</th>\n      <th>norm</th>\n      <th>lower</th>\n      <th>shape</th>\n      <th>is_alpha</th>\n      <th>is_ascii</th>\n      <th>is_digit</th>\n      <th>is_lower</th>\n      <th>...</th>\n      <th>is_title</th>\n      <th>is_punct</th>\n      <th>like_num</th>\n      <th>is_oov</th>\n      <th>is_stop</th>\n      <th>cluster</th>\n      <th>like_url</th>\n      <th>is_currency</th>\n      <th>token</th>\n      <th>tag</th>\n    </tr>\n    <tr>\n      <th>sentence_id</th>\n      <th>token_id</th>\n      <th></th>\n      <th></th>\n      <th></th>\n      <th></th>\n      <th></th>\n      <th></th>\n      <th></th>\n      <th></th>\n      <th></th>\n      <th></th>\n      <th></th>\n      <th></th>\n      <th></th>\n      <th></th>\n      <th></th>\n      <th></th>\n      <th></th>\n      <th></th>\n      <th></th>\n      <th></th>\n      <th></th>\n    </tr>\n  </thead>\n  <tbody>\n    <tr>\n      <th rowspan=\"5\" valign=\"top\">0</th>\n      <th>0</th>\n      <td>PROPN</td>\n      <td>ROOT</td>\n      <td>@glennkirschner2</td>\n      <td>@glennkirschner2</td>\n      <td>@glennkirschner2</td>\n      <td>@xxxxd</td>\n      <td>False</td>\n      <td>True</td>\n      <td>False</td>\n      <td>True</td>\n      <td>...</td>\n      <td>False</td>\n      <td>False</td>\n      <td>False</td>\n      <td>True</td>\n      <td>False</td>\n      <td>0</td>\n      <td>False</td>\n      <td>False</td>\n      <td>@glennkirschner2</td>\n      <td>O</td>\n    </tr>\n    <tr>\n      <th>1</th>\n      <td>CCONJ</td>\n      <td>cc</td>\n      <td>and</td>\n      <td>and</td>\n      <td>and</td>\n      <td>Xxx</td>\n      <td>True</td>\n      <td>True</td>\n      <td>False</td>\n      <td>False</td>\n      <td>...</td>\n      <td>True</td>\n      <td>False</td>\n      <td>False</td>\n      <td>False</td>\n      <td>True</td>\n      <td>1470</td>\n      <td>False</td>\n      <td>False</td>\n      <td>And</td>\n      <td>O</td>\n    </tr>\n    <tr>\n      <th>2</th>\n      <td>SCONJ</td>\n      <td>mark</td>\n      <td>as</td>\n      <td>as</td>\n      <td>as</td>\n      <td>xx</td>\n      <td>True</td>\n      <td>True</td>\n      <td>False</td>\n      <td>True</td>\n      <td>...</td>\n      <td>False</td>\n      <td>False</td>\n      <td>False</td>\n      <td>False</td>\n      <td>True</td>\n      <td>212</td>\n      <td>False</td>\n      <td>False</td>\n      <td>as</td>\n      <td>O</td>\n    </tr>\n    <tr>\n      <th>3</th>\n      <td>PRON</td>\n      <td>nsubj</td>\n      <td>-PRON-</td>\n      <td>he</td>\n      <td>he</td>\n      <td>xx</td>\n      <td>True</td>\n      <td>True</td>\n      <td>False</td>\n      <td>True</td>\n      <td>...</td>\n      <td>False</td>\n      <td>False</td>\n      <td>False</td>\n      <td>False</td>\n      <td>True</td>\n      <td>218</td>\n      <td>False</td>\n      <td>False</td>\n      <td>he</td>\n      <td>O</td>\n    </tr>\n    <tr>\n      <th>4</th>\n      <td>ADV</td>\n      <td>advmod</td>\n      <td>constantly</td>\n      <td>constantly</td>\n      <td>constantly</td>\n      <td>xxxx</td>\n      <td>True</td>\n      <td>True</td>\n      <td>False</td>\n      <td>True</td>\n      <td>...</td>\n      <td>False</td>\n      <td>False</td>\n      <td>False</td>\n      <td>False</td>\n      <td>False</td>\n      <td>7802</td>\n      <td>False</td>\n      <td>False</td>\n      <td>constantly</td>\n      <td>O</td>\n    </tr>\n  </tbody>\n</table>\n<p>5 rows × 21 columns</p>\n</div>",
            "text/plain": "                        pos     dep             lemma              norm  \\\nsentence_id token_id                                                      \n0           0         PROPN    ROOT  @glennkirschner2  @glennkirschner2   \n            1         CCONJ      cc               and               and   \n            2         SCONJ    mark                as                as   \n            3          PRON   nsubj            -PRON-                he   \n            4           ADV  advmod        constantly        constantly   \n\n                                 lower   shape  is_alpha  is_ascii  is_digit  \\\nsentence_id token_id                                                           \n0           0         @glennkirschner2  @xxxxd     False      True     False   \n            1                      and     Xxx      True      True     False   \n            2                       as      xx      True      True     False   \n            3                       he      xx      True      True     False   \n            4               constantly    xxxx      True      True     False   \n\n                      is_lower  ...  is_title  is_punct  like_num  is_oov  \\\nsentence_id token_id            ...                                         \n0           0             True  ...     False     False     False    True   \n            1            False  ...      True     False     False   False   \n            2             True  ...     False     False     False   False   \n            3             True  ...     False     False     False   False   \n            4             True  ...     False     False     False   False   \n\n                      is_stop  cluster  like_url  is_currency  \\\nsentence_id token_id                                            \n0           0           False        0     False        False   \n            1            True     1470     False        False   \n            2            True      212     False        False   \n            3            True      218     False        False   \n            4           False     7802     False        False   \n\n                                 token tag  \nsentence_id token_id                        \n0           0         @glennkirschner2   O  \n            1                      And   O  \n            2                       as   O  \n            3                       he   O  \n            4               constantly   O  \n\n[5 rows x 21 columns]"
          },
          "execution_count": 7,
          "metadata": {},
          "output_type": "execute_result"
        }
      ],
      "source": [
        "# Get the self-annotated tweets\n",
        "path = '../data/' if 'src' in os.getcwd() else './data/'\n",
        "tweets = pd.read_csv(path+f'twitter/test_29_11_19.csv', index_col=['sentence_id','token_id']).fillna(value={'token': 'NA'})\n",
        "tweet_map = {\n",
        "    'B-EVENT':'B-MISC',\n",
        "    'I-EVENT':'I-MISC',\n",
        "    'B-NORP':'B-MISC',\n",
        "    'I-NORP':'I-MISC',\n",
        "    'B-WORK_OF_ART':'B-MISC',\n",
        "    'I-WORK_OF_ART':'I-MISC',\n",
        "    'B-PRODUCT':'B-MISC',\n",
        "    'I-PRODUCT':'I-MISC',\n",
        "    'B-FAC':'B-LOC',\n",
        "    'I-FAC':'I-LOC',\n",
        "    'B-PERSON':'B-PER',\n",
        "    'I-PERSON':'I-PER',\n",
        "    'B-GPE':'B-LOC',\n",
        "    'I-GPE':'I-LOC',\n",
        "    'B-LOC':'B-LOC',\n",
        "    'I-LOC':'I-LOC',\n",
        "    'B-ORG':'B-ORG',\n",
        "    'I-ORG':'I-ORG',\n",
        "    'O':'O'\n",
        "}\n",
        "\n",
        "tweets['tag'] = tweets['tag'].map(tweet_map)\n",
        "\n",
        "tweet_tags = sorted(tweets['tag'].unique(), key=lambda x: (x[1:],x[0]))\n",
        "log_print(f'Testing tweets ready. Tags: {str(tweet_tags)}')\n",
        "tweets.head()"
      ]
    },
    {
      "cell_type": "code",
      "execution_count": 8,
      "metadata": {},
      "outputs": [
        {
          "data": {
            "text/plain": "1203"
          },
          "execution_count": 8,
          "metadata": {},
          "output_type": "execute_result"
        }
      ],
      "source": [
        "len(tweets.groupby('sentence_id'))"
      ]
    },
    {
      "cell_type": "markdown",
      "metadata": {
        "colab_type": "text",
        "id": "zDRRM_CPrgkN"
      },
      "outputs": [],
      "source": [
        "##Feature Engineering"
      ]
    },
    {
      "cell_type": "markdown",
      "metadata": {
        "colab_type": "text",
        "id": "p2CsZO-CuLpE"
      },
      "outputs": [],
      "source": [
        "Coming up with good features for our model to assign weights to is critical. We've used a number of orthographic features, prefixes, suffixes, POS tags and lemmas. The tag transition is also modelled under the hood by crfsuite. The context window is of radius 1."
      ]
    },
    {
      "cell_type": "code",
      "execution_count": 9,
      "metadata": {},
      "outputs": [],
      "source": [
        "class Sent2():\n",
        "    '''Takes an array of sentences and their tags'''\n",
        "\n",
        "    def __init__(self,attributes=None):\n",
        "        self.attrs = attributes\n",
        "\n",
        "    def __get_features(self, word, prefix):\n",
        "        '''get features dictionary for a single token'''\n",
        "\n",
        "        try:\n",
        "\n",
        "            features = {\n",
        "                f'{prefix}{attr}': word[attr] for attr in self.attrs\n",
        "            }\n",
        "\n",
        "            features.update({f'{prefix}bias': 1.0,\n",
        "            f'{prefix}prefix2': word['token'][:2],\n",
        "            f'{prefix}prefix3': word['token'][:2],\n",
        "            f'{prefix}suffix2': word['token'][-2:],\n",
        "            f'{prefix}suffix3': word['token'][-3:],\n",
        "            })\n",
        "\n",
        "        except TypeError:\n",
        "            key = 'BOS' if prefix == '-1' else 'EOS'\n",
        "            features = {key: True}\n",
        "        return features\n",
        "\n",
        "    def __word2features(self, sent, token_id):\n",
        "        '''get features dictionary over the context window'''\n",
        "\n",
        "        # get rows of context window\n",
        "        current = sent.iloc[token_id]\n",
        "        left = sent.iloc[token_id - 1] if token_id else None\n",
        "        try:\n",
        "            right = sent.iloc[token_id + 1]\n",
        "        except:\n",
        "            right = None\n",
        "\n",
        "        features = {}\n",
        "\n",
        "        # add features from all tokens in context window\n",
        "        for row, prefix in zip((current, left, right), ('', '-1', '+1')):\n",
        "            features.update(self.__get_features(row, prefix))\n",
        "\n",
        "        features.pop('-1bias', None)\n",
        "        features.pop('+1bias', None)\n",
        "\n",
        "        return features\n",
        "\n",
        "    def features(self, sent):\n",
        "        '''convert a sentence to a list of context window feature vectors'''\n",
        "        return [self.__word2features(sent, i) for i in range(len(sent))]\n",
        "\n",
        "    def tokens(self, sent):\n",
        "        '''get the sequence of string tokens for a sentence'''\n",
        "        return ' '.join([row['token'] for _, row in sent.iterrows()])\n",
        "\n",
        "    def labels(self,sent):\n",
        "        '''get the sequence of target tags for a sentence'''\n",
        "        return [row['tag'] for _, row in sent.iterrows()]"
      ]
    },
    {
      "cell_type": "markdown",
      "metadata": {
        "colab_type": "text",
        "id": "uxXwsghjvJgV"
      },
      "outputs": [],
      "source": [
        "Sample sentences from our dataframes and create the input and output pairs for training/testing. An input is a list of feature vectors, one for each time step."
      ]
    },
    {
      "cell_type": "code",
      "execution_count": 10,
      "metadata": {},
      "outputs": [],
      "source": [
        "def get_sentences(frame, p=1, name='unknown'):\n",
        "\n",
        "    frame = frame.drop(columns='cluster')\n",
        "\n",
        "    if p<1:\n",
        "        sample_idx = np.random.choice(range(len(frame.groupby(level='sentence_id'))),\n",
        "                                size=int(p*len(frame.groupby(level='sentence_id'))),\n",
        "                                replace=False)\n",
        "        frame = frame.loc[sample_idx,:]\n",
        "\n",
        "    att = list(frame.columns.values)\n",
        "    att.remove('tag')\n",
        "    # print('Using token features:\\n',att)\n",
        "\n",
        "    x = frame.drop(columns='tag'\n",
        "                    ).groupby(level='sentence_id'\n",
        "                    ).apply(lambda sent: Sent2(att).features(sent))\n",
        "    y = frame.groupby(level='sentence_id'\n",
        "                    ).apply(lambda sent: Sent2().labels(sent))\n",
        "    z = frame.groupby(level='sentence_id'\n",
        "                    ).apply(lambda sent: Sent2().tokens(sent))\n",
        "\n",
        "\n",
        "    # return pd.DataFrame(data={'x': x, 'y': y, 'tokens': z, 'dist': dist})\n",
        "    return pd.DataFrame(data={'x': x, 'y': y, 'z': z, 'dist': [name]*len(x)})"
      ]
    },
    {
      "cell_type": "code",
      "execution_count": 11,
      "metadata": {},
      "outputs": [
        {
          "name": "stdout",
          "output_type": "stream",
          "text": "Getting sentences from multi-index dataframes...\n"
        }
      ],
      "source": [
        "p = 1\n",
        "\n",
        "try:\n",
        "    log_print('Getting sentences from multi-index dataframes...')\n",
        "    dists = {\n",
        "        'tweets': get_sentences(tweets, 1, 'tweet'),\n",
        "        # 'wnut': get_sentences(data_wnut['train'], p, 'wnut'),\n",
        "        # 'conll': get_sentences(data_conll['train'], p, 'conll')\n",
        "    }\n",
        "\n",
        "    # dists['mixed'] = pd.concat([train_conll,train_wnut]).reset_index(drop=True).sample(frac=1)\n",
        "except Exception as e:\n",
        "    logging.error(f'Failed: {e}')\n",
        "    raise e\n"
      ]
    },
    {
      "cell_type": "markdown",
      "metadata": {
        "colab_type": "text",
        "id": "GajuLtYe4aCx"
      },
      "outputs": [],
      "source": [
        "##Train"
      ]
    },
    {
      "cell_type": "markdown",
      "metadata": {
        "colab_type": "text",
        "id": "zl2-HRyWvdty"
      },
      "outputs": [],
      "source": [
        "The 'O' is not of interest to us; we are more interested in the other tags.\n",
        "Let's evaluate models based on a flat f1 score over the other tags."
      ]
    },
    {
      "cell_type": "code",
      "execution_count": 12,
      "metadata": {},
      "outputs": [],
      "source": [
        "labels = list(data_conll['train']['tag'].unique())\n",
        "labels.remove('O')\n",
        "\n",
        "flat_f1 = make_scorer(metrics.flat_f1_score, average='weighted', labels=labels)"
      ]
    },
    {
      "cell_type": "code",
      "execution_count": 13,
      "metadata": {},
      "outputs": [],
      "source": [
        "# For grid searching\n",
        "# get_name = lambda dist_: f'./models/crf_{dt.now().strftime(\"%d_%m_%y\")}_{dist_}.pickle'\n",
        "# model_name = get_name('mixed')\n",
        "\n",
        "# try:\n",
        "#     iters = 20\n",
        "#     cv = 3\n",
        "#     params_space = {\n",
        "#     'c1': scipy.stats.expon(scale=1),\n",
        "#     'c2': scipy.stats.expon(scale=0.02),\n",
        "#     }\n",
        "\n",
        "#     logging.info(f'Fitting {iters*cv} models...')\n",
        "#     rs = RandomizedSearchCV(CRF(all_possible_transitions=True), params_space, n_iter=iters, cv=cv, scoring=flat_f1, n_jobs=10, verbose=1)\n",
        "#     rs.fit(train['x'], train['y'])\n",
        "#     clf = rs.best_estimator_\n",
        "\n",
        "#     log_print(f'Fit successful. Best params {rs.best_params_}')\n",
        "# except Exception as e:\n",
        "#     logging.error(f'Failed: {e}')\n",
        "#     raise e\n"
      ]
    },
    {
      "cell_type": "code",
      "execution_count": 14,
      "metadata": {},
      "outputs": [],
      "source": [
        "# For fitting full model\n",
        "\n",
        "# dist = 'conll'\n",
        "# model_name = get_name(dist)\n",
        "# train = dists[dist]\n",
        "\n",
        "# try:\n",
        "#     logging.info(f'Fitting full model...')\n",
        "#     clf = CRF(all_possible_transitions=True, c1=0.0798, c2=0.0523)\n",
        "#     clf.max_iterations = 1000\n",
        "#     clf.epsilon = 1e-6\n",
        "#     clf.fit(train['x'], train['y'])\n",
        "#     log_print(f'Fit successful.')\n",
        "# except Exception as e:\n",
        "#     logging.error(f'Failed: {e}')\n",
        "#     raise e\n",
        "# finally:\n",
        "#     try:\n",
        "#         with open(model_name, 'wb') as f:\n",
        "#             pickle.dump(clf,f)\n",
        "#     except:\n",
        "#         pass"
      ]
    },
    {
      "cell_type": "markdown",
      "metadata": {
        "colab_type": "text",
        "id": "UIZh7ucB5FwC"
      },
      "outputs": [],
      "source": [
        "##Evaluate"
      ]
    },
    {
      "cell_type": "code",
      "execution_count": 15,
      "metadata": {},
      "outputs": [
        {
          "name": "stdout",
          "output_type": "stream",
          "text": "Loaded pre-trained model ./models/crf_25_11_19_conll.pickle.\nc1:0.0798, c2:0.0523\ncrf_25_11_19_conll flat F1 score: 0.34015030242044975\n              precision    recall  f1-score   support\n\n       B-LOC      0.335     0.513     0.405       115\n       I-LOC      0.261     0.261     0.261        46\n      B-MISC      0.305     0.269     0.286       171\n      I-MISC      0.094     0.101     0.097       129\n       B-ORG      0.344     0.357     0.351       207\n       I-ORG      0.146     0.371     0.210        62\n       B-PER      0.429     0.500     0.462       312\n       I-PER      0.301     0.527     0.383       112\n\n   micro avg      0.306     0.383     0.340      1154\n   macro avg      0.277     0.362     0.307      1154\nweighted avg      0.314     0.383     0.340      1154\n\nLoaded pre-trained model ./models/crf_25_11_19_wnut.pickle.\nc1:0.019877889915629585, c2:0.005732039148371734\ncrf_25_11_19_wnut flat F1 score: 0.36527078595825585\n              precision    recall  f1-score   support\n\n       B-LOC      0.468     0.443     0.455       115\n       I-LOC      0.375     0.391     0.383        46\n      B-MISC      0.237     0.129     0.167       171\n      I-MISC      0.218     0.147     0.176       129\n       B-ORG      0.867     0.126     0.219       207\n       I-ORG      1.000     0.016     0.032        62\n       B-PER      0.652     0.551     0.597       312\n       I-PER      0.699     0.518     0.595       112\n\n   micro avg      0.513     0.318     0.393      1154\n   macro avg      0.564     0.290     0.328      1154\nweighted avg      0.574     0.318     0.365      1154\n\nLoaded pre-trained model ./models/crf_27_11_19_mixed.pickle.\nc1:0.0656, c2:0.025\ncrf_27_11_19_mixed flat F1 score: 0.4582198317883393\n              precision    recall  f1-score   support\n\n       B-LOC      0.493     0.609     0.545       115\n       I-LOC      0.389     0.304     0.341        46\n      B-MISC      0.431     0.275     0.336       171\n      I-MISC      0.316     0.186     0.234       129\n       B-ORG      0.500     0.295     0.371       207\n       I-ORG      0.355     0.355     0.355        62\n       B-PER      0.695     0.583     0.634       312\n       I-PER      0.659     0.536     0.591       112\n\n   micro avg      0.533     0.416     0.467      1154\n   macro avg      0.480     0.393     0.426      1154\nweighted avg      0.524     0.416     0.458      1154\n\n"
        }
      ],
      "source": [
        "models = ['crf_25_11_19_conll','crf_25_11_19_wnut','crf_27_11_19_mixed']\n",
        "\n",
        "test = dists['tweets']\n",
        "\n",
        "for name in models:\n",
        "    model_name = f'./models/{name}.pickle'\n",
        "\n",
        "    with open(model_name, 'rb') as f:\n",
        "        clf = pickle.load(f)\n",
        "        log_print(f'Loaded pre-trained model {model_name}.')\n",
        "\n",
        "    log_print(f'c1:{clf.c1}, c2:{clf.c2}')\n",
        "    \n",
        "    y_pred = clf.predict(test['x'])\n",
        "\n",
        "    flat_f1_score = metrics.flat_f1_score(test['y'], y_pred,\n",
        "                        average='weighted', labels=labels)\n",
        "\n",
        "    log_print(f'{name} flat F1 score: '+str(flat_f1_score))\n",
        "\n",
        "    sorted_labels = sorted(labels, key = lambda x: (x[1:],x[0]))\n",
        "\n",
        "    print(metrics.flat_classification_report(\n",
        "        test['y'], y_pred, labels=sorted_labels, digits=3\n",
        "    ))\n",
        "\n",
        "\n",
        "    # if os.name == 'nt':\n",
        "    #     eli5.show_weights(clf, top=10)"
      ]
    },
    {
      "cell_type": "code",
      "execution_count": 25,
      "metadata": {},
      "outputs": [
        {
          "data": {
            "text/plain": "[Text(33,0.5,'True'), Text(0.5,15,'Predicted')]"
          },
          "execution_count": 25,
          "metadata": {},
          "output_type": "execute_result"
        },
        {
          "data": {
            "image/png": "[encoded data removed]",
            "image/svg+xml": "<?xml version=\"1.0\" encoding=\"utf-8\" standalone=\"no\"?>\r\n<!DOCTYPE svg PUBLIC \"-//W3C//DTD SVG 1.1//EN\"\r\n  \"http://www.w3.org/Graphics/SVG/1.1/DTD/svg11.dtd\">\r\n<!-- Created with matplotlib (http://matplotlib.org/) -->\r\n<svg height=\"265.69625pt\" version=\"1.1\" viewBox=\"0 0 391.99575 265.69625\" width=\"391.99575pt\" xmlns=\"http://www.w3.org/2000/svg\" xmlns:xlink=\"http://www.w3.org/1999/xlink\">\r\n <defs>\r\n  <style type=\"text/css\">\r\n*{stroke-linecap:butt;stroke-linejoin:round;}\r\n  </style>\r\n </defs>\r\n <g id=\"figure_1\">\r\n  <g id=\"patch_1\">\r\n   <path d=\"M 0 265.69625 \r\nL 391.99575 265.69625 \r\nL 391.99575 0 \r\nL 0 0 \r\nz\r\n\" style=\"fill:none;\"/>\r\n  </g>\r\n  <g id=\"axes_1\">\r\n   <g id=\"patch_2\">\r\n    <path d=\"M 63.25625 228.14 \r\nL 331.09625 228.14 \r\nL 331.09625 10.7 \r\nL 63.25625 10.7 \r\nz\r\n\" style=\"fill:#ffffff;\"/>\r\n   </g>\r\n   <g id=\"QuadMesh_1\">\r\n    <path clip-path=\"url(#pd528dac114)\" d=\"M 63.25625 10.7 \r\nL 96.73625 10.7 \r\nL 96.73625 37.88 \r\nL 63.25625 37.88 \r\nL 63.25625 10.7 \r\n\" style=\"fill:#9ac8e0;\"/>\r\n    <path clip-path=\"url(#pd528dac114)\" d=\"M 96.73625 10.7 \r\nL 130.21625 10.7 \r\nL 130.21625 37.88 \r\nL 96.73625 37.88 \r\nL 96.73625 10.7 \r\n\" style=\"fill:#f4f9fe;\"/>\r\n    <path clip-path=\"url(#pd528dac114)\" d=\"M 130.21625 10.7 \r\nL 163.69625 10.7 \r\nL 163.69625 37.88 \r\nL 130.21625 37.88 \r\nL 130.21625 10.7 \r\n\" style=\"fill:#eef5fc;\"/>\r\n    <path clip-path=\"url(#pd528dac114)\" d=\"M 163.69625 10.7 \r\nL 197.17625 10.7 \r\nL 197.17625 37.88 \r\nL 163.69625 37.88 \r\nL 163.69625 10.7 \r\n\" style=\"fill:#f7fbff;\"/>\r\n    <path clip-path=\"url(#pd528dac114)\" d=\"M 197.17625 10.7 \r\nL 230.65625 10.7 \r\nL 230.65625 37.88 \r\nL 197.17625 37.88 \r\nL 197.17625 10.7 \r\n\" style=\"fill:#dae8f6;\"/>\r\n    <path clip-path=\"url(#pd528dac114)\" d=\"M 230.65625 10.7 \r\nL 264.13625 10.7 \r\nL 264.13625 37.88 \r\nL 230.65625 37.88 \r\nL 230.65625 10.7 \r\n\" style=\"fill:#f6faff;\"/>\r\n    <path clip-path=\"url(#pd528dac114)\" d=\"M 264.13625 10.7 \r\nL 297.61625 10.7 \r\nL 297.61625 37.88 \r\nL 264.13625 37.88 \r\nL 264.13625 10.7 \r\n\" style=\"fill:#e5eff9;\"/>\r\n    <path clip-path=\"url(#pd528dac114)\" d=\"M 297.61625 10.7 \r\nL 331.09625 10.7 \r\nL 331.09625 37.88 \r\nL 297.61625 37.88 \r\nL 297.61625 10.7 \r\n\" style=\"fill:#f7fbff;\"/>\r\n    <path clip-path=\"url(#pd528dac114)\" d=\"M 63.25625 37.88 \r\nL 96.73625 37.88 \r\nL 96.73625 65.06 \r\nL 63.25625 65.06 \r\nL 63.25625 37.88 \r\n\" style=\"fill:#f7fbff;\"/>\r\n    <path clip-path=\"url(#pd528dac114)\" d=\"M 96.73625 37.88 \r\nL 130.21625 37.88 \r\nL 130.21625 65.06 \r\nL 96.73625 65.06 \r\nL 96.73625 37.88 \r\n\" style=\"fill:#e8f1fa;\"/>\r\n    <path clip-path=\"url(#pd528dac114)\" d=\"M 130.21625 37.88 \r\nL 163.69625 37.88 \r\nL 163.69625 65.06 \r\nL 130.21625 65.06 \r\nL 130.21625 37.88 \r\n\" style=\"fill:#f7fbff;\"/>\r\n    <path clip-path=\"url(#pd528dac114)\" d=\"M 163.69625 37.88 \r\nL 197.17625 37.88 \r\nL 197.17625 65.06 \r\nL 163.69625 65.06 \r\nL 163.69625 37.88 \r\n\" style=\"fill:#f5fafe;\"/>\r\n    <path clip-path=\"url(#pd528dac114)\" d=\"M 197.17625 37.88 \r\nL 230.65625 37.88 \r\nL 230.65625 65.06 \r\nL 197.17625 65.06 \r\nL 197.17625 37.88 \r\n\" style=\"fill:#f7fbff;\"/>\r\n    <path clip-path=\"url(#pd528dac114)\" d=\"M 230.65625 37.88 \r\nL 264.13625 37.88 \r\nL 264.13625 65.06 \r\nL 230.65625 65.06 \r\nL 230.65625 37.88 \r\n\" style=\"fill:#ebf3fb;\"/>\r\n    <path clip-path=\"url(#pd528dac114)\" d=\"M 264.13625 37.88 \r\nL 297.61625 37.88 \r\nL 297.61625 65.06 \r\nL 264.13625 65.06 \r\nL 264.13625 37.88 \r\n\" style=\"fill:#f6faff;\"/>\r\n    <path clip-path=\"url(#pd528dac114)\" d=\"M 297.61625 37.88 \r\nL 331.09625 37.88 \r\nL 331.09625 65.06 \r\nL 297.61625 65.06 \r\nL 297.61625 37.88 \r\n\" style=\"fill:#f3f8fe;\"/>\r\n    <path clip-path=\"url(#pd528dac114)\" d=\"M 63.25625 65.06 \r\nL 96.73625 65.06 \r\nL 96.73625 92.24 \r\nL 63.25625 92.24 \r\nL 63.25625 65.06 \r\n\" style=\"fill:#f1f7fd;\"/>\r\n    <path clip-path=\"url(#pd528dac114)\" d=\"M 96.73625 65.06 \r\nL 130.21625 65.06 \r\nL 130.21625 92.24 \r\nL 96.73625 92.24 \r\nL 96.73625 65.06 \r\n\" style=\"fill:#f6faff;\"/>\r\n    <path clip-path=\"url(#pd528dac114)\" d=\"M 130.21625 65.06 \r\nL 163.69625 65.06 \r\nL 163.69625 92.24 \r\nL 130.21625 92.24 \r\nL 130.21625 65.06 \r\n\" style=\"fill:#c3daee;\"/>\r\n    <path clip-path=\"url(#pd528dac114)\" d=\"M 163.69625 65.06 \r\nL 197.17625 65.06 \r\nL 197.17625 92.24 \r\nL 163.69625 92.24 \r\nL 163.69625 65.06 \r\n\" style=\"fill:#f5fafe;\"/>\r\n    <path clip-path=\"url(#pd528dac114)\" d=\"M 197.17625 65.06 \r\nL 230.65625 65.06 \r\nL 230.65625 92.24 \r\nL 197.17625 92.24 \r\nL 197.17625 65.06 \r\n\" style=\"fill:#e0ecf8;\"/>\r\n    <path clip-path=\"url(#pd528dac114)\" d=\"M 230.65625 65.06 \r\nL 264.13625 65.06 \r\nL 264.13625 92.24 \r\nL 230.65625 92.24 \r\nL 230.65625 65.06 \r\n\" style=\"fill:#f3f8fe;\"/>\r\n    <path clip-path=\"url(#pd528dac114)\" d=\"M 264.13625 65.06 \r\nL 297.61625 65.06 \r\nL 297.61625 92.24 \r\nL 264.13625 92.24 \r\nL 264.13625 65.06 \r\n\" style=\"fill:#f2f7fd;\"/>\r\n    <path clip-path=\"url(#pd528dac114)\" d=\"M 297.61625 65.06 \r\nL 331.09625 65.06 \r\nL 331.09625 92.24 \r\nL 297.61625 92.24 \r\nL 297.61625 65.06 \r\n\" style=\"fill:#f7fbff;\"/>\r\n    <path clip-path=\"url(#pd528dac114)\" d=\"M 63.25625 92.24 \r\nL 96.73625 92.24 \r\nL 96.73625 119.42 \r\nL 63.25625 119.42 \r\nL 63.25625 92.24 \r\n\" style=\"fill:#f7fbff;\"/>\r\n    <path clip-path=\"url(#pd528dac114)\" d=\"M 96.73625 92.24 \r\nL 130.21625 92.24 \r\nL 130.21625 119.42 \r\nL 96.73625 119.42 \r\nL 96.73625 92.24 \r\n\" style=\"fill:#f5fafe;\"/>\r\n    <path clip-path=\"url(#pd528dac114)\" d=\"M 130.21625 92.24 \r\nL 163.69625 92.24 \r\nL 163.69625 119.42 \r\nL 130.21625 119.42 \r\nL 130.21625 92.24 \r\n\" style=\"fill:#f2f7fd;\"/>\r\n    <path clip-path=\"url(#pd528dac114)\" d=\"M 163.69625 92.24 \r\nL 197.17625 92.24 \r\nL 197.17625 119.42 \r\nL 163.69625 119.42 \r\nL 163.69625 92.24 \r\n\" style=\"fill:#ddeaf7;\"/>\r\n    <path clip-path=\"url(#pd528dac114)\" d=\"M 197.17625 92.24 \r\nL 230.65625 92.24 \r\nL 230.65625 119.42 \r\nL 197.17625 119.42 \r\nL 197.17625 92.24 \r\n\" style=\"fill:#f5fafe;\"/>\r\n    <path clip-path=\"url(#pd528dac114)\" d=\"M 230.65625 92.24 \r\nL 264.13625 92.24 \r\nL 264.13625 119.42 \r\nL 230.65625 119.42 \r\nL 230.65625 92.24 \r\n\" style=\"fill:#f3f8fe;\"/>\r\n    <path clip-path=\"url(#pd528dac114)\" d=\"M 264.13625 92.24 \r\nL 297.61625 92.24 \r\nL 297.61625 119.42 \r\nL 264.13625 119.42 \r\nL 264.13625 92.24 \r\n\" style=\"fill:#f6faff;\"/>\r\n    <path clip-path=\"url(#pd528dac114)\" d=\"M 297.61625 92.24 \r\nL 331.09625 92.24 \r\nL 331.09625 119.42 \r\nL 297.61625 119.42 \r\nL 297.61625 92.24 \r\n\" style=\"fill:#f6faff;\"/>\r\n    <path clip-path=\"url(#pd528dac114)\" d=\"M 63.25625 119.42 \r\nL 96.73625 119.42 \r\nL 96.73625 146.6 \r\nL 63.25625 146.6 \r\nL 63.25625 119.42 \r\n\" style=\"fill:#f3f8fe;\"/>\r\n    <path clip-path=\"url(#pd528dac114)\" d=\"M 96.73625 119.42 \r\nL 130.21625 119.42 \r\nL 130.21625 146.6 \r\nL 96.73625 146.6 \r\nL 96.73625 119.42 \r\n\" style=\"fill:#f5fafe;\"/>\r\n    <path clip-path=\"url(#pd528dac114)\" d=\"M 130.21625 119.42 \r\nL 163.69625 119.42 \r\nL 163.69625 146.6 \r\nL 130.21625 146.6 \r\nL 130.21625 119.42 \r\n\" style=\"fill:#f3f8fe;\"/>\r\n    <path clip-path=\"url(#pd528dac114)\" d=\"M 163.69625 119.42 \r\nL 197.17625 119.42 \r\nL 197.17625 146.6 \r\nL 163.69625 146.6 \r\nL 163.69625 119.42 \r\n\" style=\"fill:#f6faff;\"/>\r\n    <path clip-path=\"url(#pd528dac114)\" d=\"M 197.17625 119.42 \r\nL 230.65625 119.42 \r\nL 230.65625 146.6 \r\nL 197.17625 146.6 \r\nL 197.17625 119.42 \r\n\" style=\"fill:#abd0e6;\"/>\r\n    <path clip-path=\"url(#pd528dac114)\" d=\"M 230.65625 119.42 \r\nL 264.13625 119.42 \r\nL 264.13625 146.6 \r\nL 230.65625 146.6 \r\nL 230.65625 119.42 \r\n\" style=\"fill:#f1f7fd;\"/>\r\n    <path clip-path=\"url(#pd528dac114)\" d=\"M 264.13625 119.42 \r\nL 297.61625 119.42 \r\nL 297.61625 146.6 \r\nL 264.13625 146.6 \r\nL 264.13625 119.42 \r\n\" style=\"fill:#e1edf8;\"/>\r\n    <path clip-path=\"url(#pd528dac114)\" d=\"M 297.61625 119.42 \r\nL 331.09625 119.42 \r\nL 331.09625 146.6 \r\nL 297.61625 146.6 \r\nL 297.61625 119.42 \r\n\" style=\"fill:#f7fbff;\"/>\r\n    <path clip-path=\"url(#pd528dac114)\" d=\"M 63.25625 146.6 \r\nL 96.73625 146.6 \r\nL 96.73625 173.78 \r\nL 63.25625 173.78 \r\nL 63.25625 146.6 \r\n\" style=\"fill:#f7fbff;\"/>\r\n    <path clip-path=\"url(#pd528dac114)\" d=\"M 96.73625 146.6 \r\nL 130.21625 146.6 \r\nL 130.21625 173.78 \r\nL 96.73625 173.78 \r\nL 96.73625 146.6 \r\n\" style=\"fill:#f6faff;\"/>\r\n    <path clip-path=\"url(#pd528dac114)\" d=\"M 130.21625 146.6 \r\nL 163.69625 146.6 \r\nL 163.69625 173.78 \r\nL 130.21625 173.78 \r\nL 130.21625 146.6 \r\n\" style=\"fill:#f5fafe;\"/>\r\n    <path clip-path=\"url(#pd528dac114)\" d=\"M 163.69625 146.6 \r\nL 197.17625 146.6 \r\nL 197.17625 173.78 \r\nL 163.69625 173.78 \r\nL 163.69625 146.6 \r\n\" style=\"fill:#f6faff;\"/>\r\n    <path clip-path=\"url(#pd528dac114)\" d=\"M 197.17625 146.6 \r\nL 230.65625 146.6 \r\nL 230.65625 173.78 \r\nL 197.17625 173.78 \r\nL 197.17625 146.6 \r\n\" style=\"fill:#f6faff;\"/>\r\n    <path clip-path=\"url(#pd528dac114)\" d=\"M 230.65625 146.6 \r\nL 264.13625 146.6 \r\nL 264.13625 173.78 \r\nL 230.65625 173.78 \r\nL 230.65625 146.6 \r\n\" style=\"fill:#dfecf7;\"/>\r\n    <path clip-path=\"url(#pd528dac114)\" d=\"M 264.13625 146.6 \r\nL 297.61625 146.6 \r\nL 297.61625 173.78 \r\nL 264.13625 173.78 \r\nL 264.13625 146.6 \r\n\" style=\"fill:#f5fafe;\"/>\r\n    <path clip-path=\"url(#pd528dac114)\" d=\"M 297.61625 146.6 \r\nL 331.09625 146.6 \r\nL 331.09625 173.78 \r\nL 297.61625 173.78 \r\nL 297.61625 146.6 \r\n\" style=\"fill:#ecf4fb;\"/>\r\n    <path clip-path=\"url(#pd528dac114)\" d=\"M 63.25625 173.78 \r\nL 96.73625 173.78 \r\nL 96.73625 200.96 \r\nL 63.25625 200.96 \r\nL 63.25625 173.78 \r\n\" style=\"fill:#f2f7fd;\"/>\r\n    <path clip-path=\"url(#pd528dac114)\" d=\"M 96.73625 173.78 \r\nL 130.21625 173.78 \r\nL 130.21625 200.96 \r\nL 96.73625 200.96 \r\nL 96.73625 173.78 \r\n\" style=\"fill:#f7fbff;\"/>\r\n    <path clip-path=\"url(#pd528dac114)\" d=\"M 130.21625 173.78 \r\nL 163.69625 173.78 \r\nL 163.69625 200.96 \r\nL 130.21625 200.96 \r\nL 130.21625 173.78 \r\n\" style=\"fill:#e5eff9;\"/>\r\n    <path clip-path=\"url(#pd528dac114)\" d=\"M 163.69625 173.78 \r\nL 197.17625 173.78 \r\nL 197.17625 200.96 \r\nL 163.69625 200.96 \r\nL 163.69625 173.78 \r\n\" style=\"fill:#f5fafe;\"/>\r\n    <path clip-path=\"url(#pd528dac114)\" d=\"M 197.17625 173.78 \r\nL 230.65625 173.78 \r\nL 230.65625 200.96 \r\nL 197.17625 200.96 \r\nL 197.17625 173.78 \r\n\" style=\"fill:#ecf4fb;\"/>\r\n    <path clip-path=\"url(#pd528dac114)\" d=\"M 230.65625 173.78 \r\nL 264.13625 173.78 \r\nL 264.13625 200.96 \r\nL 230.65625 200.96 \r\nL 230.65625 173.78 \r\n\" style=\"fill:#f7fbff;\"/>\r\n    <path clip-path=\"url(#pd528dac114)\" d=\"M 264.13625 173.78 \r\nL 297.61625 173.78 \r\nL 297.61625 200.96 \r\nL 264.13625 200.96 \r\nL 264.13625 173.78 \r\n\" style=\"fill:#08306b;\"/>\r\n    <path clip-path=\"url(#pd528dac114)\" d=\"M 297.61625 173.78 \r\nL 331.09625 173.78 \r\nL 331.09625 200.96 \r\nL 297.61625 200.96 \r\nL 297.61625 173.78 \r\n\" style=\"fill:#f0f6fd;\"/>\r\n    <path clip-path=\"url(#pd528dac114)\" d=\"M 63.25625 200.96 \r\nL 96.73625 200.96 \r\nL 96.73625 228.14 \r\nL 63.25625 228.14 \r\nL 63.25625 200.96 \r\n\" style=\"fill:#f6faff;\"/>\r\n    <path clip-path=\"url(#pd528dac114)\" d=\"M 96.73625 200.96 \r\nL 130.21625 200.96 \r\nL 130.21625 228.14 \r\nL 96.73625 228.14 \r\nL 96.73625 200.96 \r\n\" style=\"fill:#f5fafe;\"/>\r\n    <path clip-path=\"url(#pd528dac114)\" d=\"M 130.21625 200.96 \r\nL 163.69625 200.96 \r\nL 163.69625 228.14 \r\nL 130.21625 228.14 \r\nL 130.21625 200.96 \r\n\" style=\"fill:#f6faff;\"/>\r\n    <path clip-path=\"url(#pd528dac114)\" d=\"M 163.69625 200.96 \r\nL 197.17625 200.96 \r\nL 197.17625 228.14 \r\nL 163.69625 228.14 \r\nL 163.69625 200.96 \r\n\" style=\"fill:#ecf4fb;\"/>\r\n    <path clip-path=\"url(#pd528dac114)\" d=\"M 197.17625 200.96 \r\nL 230.65625 200.96 \r\nL 230.65625 228.14 \r\nL 197.17625 228.14 \r\nL 197.17625 200.96 \r\n\" style=\"fill:#f7fbff;\"/>\r\n    <path clip-path=\"url(#pd528dac114)\" d=\"M 230.65625 200.96 \r\nL 264.13625 200.96 \r\nL 264.13625 228.14 \r\nL 230.65625 228.14 \r\nL 230.65625 200.96 \r\n\" style=\"fill:#f4f9fe;\"/>\r\n    <path clip-path=\"url(#pd528dac114)\" d=\"M 264.13625 200.96 \r\nL 297.61625 200.96 \r\nL 297.61625 228.14 \r\nL 264.13625 228.14 \r\nL 264.13625 200.96 \r\n\" style=\"fill:#f7fbff;\"/>\r\n    <path clip-path=\"url(#pd528dac114)\" d=\"M 297.61625 200.96 \r\nL 331.09625 200.96 \r\nL 331.09625 228.14 \r\nL 297.61625 228.14 \r\nL 297.61625 200.96 \r\n\" style=\"fill:#add0e6;\"/>\r\n   </g>\r\n   <g id=\"matplotlib.axis_1\">\r\n    <g id=\"xtick_1\">\r\n     <g id=\"line2d_1\">\r\n      <defs>\r\n       <path d=\"M 0 0 \r\nL 0 3.5 \r\n\" id=\"m05c064601a\" style=\"stroke:#000000;stroke-width:0.8;\"/>\r\n      </defs>\r\n      <g>\r\n       <use style=\"stroke:#000000;stroke-width:0.8;\" x=\"79.99625\" xlink:href=\"#m05c064601a\" y=\"228.14\"/>\r\n      </g>\r\n     </g>\r\n     <g id=\"text_1\">\r\n      <!-- B-LOC -->\r\n      <defs>\r\n       <path d=\"M 19.671875 34.8125 \r\nL 19.671875 8.109375 \r\nL 35.5 8.109375 \r\nQ 43.453125 8.109375 47.28125 11.40625 \r\nQ 51.125 14.703125 51.125 21.484375 \r\nQ 51.125 28.328125 47.28125 31.5625 \r\nQ 43.453125 34.8125 35.5 34.8125 \r\nz\r\nM 19.671875 64.796875 \r\nL 19.671875 42.828125 \r\nL 34.28125 42.828125 \r\nQ 41.5 42.828125 45.03125 45.53125 \r\nQ 48.578125 48.25 48.578125 53.8125 \r\nQ 48.578125 59.328125 45.03125 62.0625 \r\nQ 41.5 64.796875 34.28125 64.796875 \r\nz\r\nM 9.8125 72.90625 \r\nL 35.015625 72.90625 \r\nQ 46.296875 72.90625 52.390625 68.21875 \r\nQ 58.5 63.53125 58.5 54.890625 \r\nQ 58.5 48.1875 55.375 44.234375 \r\nQ 52.25 40.28125 46.1875 39.3125 \r\nQ 53.46875 37.75 57.5 32.78125 \r\nQ 61.53125 27.828125 61.53125 20.40625 \r\nQ 61.53125 10.640625 54.890625 5.3125 \r\nQ 48.25 0 35.984375 0 \r\nL 9.8125 0 \r\nz\r\n\" id=\"DejaVuSans-42\"/>\r\n       <path d=\"M 4.890625 31.390625 \r\nL 31.203125 31.390625 \r\nL 31.203125 23.390625 \r\nL 4.890625 23.390625 \r\nz\r\n\" id=\"DejaVuSans-2d\"/>\r\n       <path d=\"M 9.8125 72.90625 \r\nL 19.671875 72.90625 \r\nL 19.671875 8.296875 \r\nL 55.171875 8.296875 \r\nL 55.171875 0 \r\nL 9.8125 0 \r\nz\r\n\" id=\"DejaVuSans-4c\"/>\r\n       <path d=\"M 39.40625 66.21875 \r\nQ 28.65625 66.21875 22.328125 58.203125 \r\nQ 16.015625 50.203125 16.015625 36.375 \r\nQ 16.015625 22.609375 22.328125 14.59375 \r\nQ 28.65625 6.59375 39.40625 6.59375 \r\nQ 50.140625 6.59375 56.421875 14.59375 \r\nQ 62.703125 22.609375 62.703125 36.375 \r\nQ 62.703125 50.203125 56.421875 58.203125 \r\nQ 50.140625 66.21875 39.40625 66.21875 \r\nz\r\nM 39.40625 74.21875 \r\nQ 54.734375 74.21875 63.90625 63.9375 \r\nQ 73.09375 53.65625 73.09375 36.375 \r\nQ 73.09375 19.140625 63.90625 8.859375 \r\nQ 54.734375 -1.421875 39.40625 -1.421875 \r\nQ 24.03125 -1.421875 14.8125 8.828125 \r\nQ 5.609375 19.09375 5.609375 36.375 \r\nQ 5.609375 53.65625 14.8125 63.9375 \r\nQ 24.03125 74.21875 39.40625 74.21875 \r\nz\r\n\" id=\"DejaVuSans-4f\"/>\r\n       <path d=\"M 64.40625 67.28125 \r\nL 64.40625 56.890625 \r\nQ 59.421875 61.53125 53.78125 63.8125 \r\nQ 48.140625 66.109375 41.796875 66.109375 \r\nQ 29.296875 66.109375 22.65625 58.46875 \r\nQ 16.015625 50.828125 16.015625 36.375 \r\nQ 16.015625 21.96875 22.65625 14.328125 \r\nQ 29.296875 6.6875 41.796875 6.6875 \r\nQ 48.140625 6.6875 53.78125 8.984375 \r\nQ 59.421875 11.28125 64.40625 15.921875 \r\nL 64.40625 5.609375 \r\nQ 59.234375 2.09375 53.4375 0.328125 \r\nQ 47.65625 -1.421875 41.21875 -1.421875 \r\nQ 24.65625 -1.421875 15.125 8.703125 \r\nQ 5.609375 18.84375 5.609375 36.375 \r\nQ 5.609375 53.953125 15.125 64.078125 \r\nQ 24.65625 74.21875 41.21875 74.21875 \r\nQ 47.75 74.21875 53.53125 72.484375 \r\nQ 59.328125 70.75 64.40625 67.28125 \r\nz\r\n\" id=\"DejaVuSans-43\"/>\r\n      </defs>\r\n      <g transform=\"translate(64.550938 242.738437)scale(0.1 -0.1)\">\r\n       <use xlink:href=\"#DejaVuSans-42\"/>\r\n       <use x=\"68.603516\" xlink:href=\"#DejaVuSans-2d\"/>\r\n       <use x=\"104.6875\" xlink:href=\"#DejaVuSans-4c\"/>\r\n       <use x=\"160.353516\" xlink:href=\"#DejaVuSans-4f\"/>\r\n       <use x=\"239.064453\" xlink:href=\"#DejaVuSans-43\"/>\r\n      </g>\r\n     </g>\r\n    </g>\r\n    <g id=\"xtick_2\">\r\n     <g id=\"line2d_2\">\r\n      <g>\r\n       <use style=\"stroke:#000000;stroke-width:0.8;\" x=\"113.47625\" xlink:href=\"#m05c064601a\" y=\"228.14\"/>\r\n      </g>\r\n     </g>\r\n     <g id=\"text_2\">\r\n      <!-- I-LOC -->\r\n      <defs>\r\n       <path d=\"M 9.8125 72.90625 \r\nL 19.671875 72.90625 \r\nL 19.671875 0 \r\nL 9.8125 0 \r\nz\r\n\" id=\"DejaVuSans-49\"/>\r\n      </defs>\r\n      <g transform=\"translate(99.986406 242.738437)scale(0.1 -0.1)\">\r\n       <use xlink:href=\"#DejaVuSans-49\"/>\r\n       <use x=\"29.492188\" xlink:href=\"#DejaVuSans-2d\"/>\r\n       <use x=\"65.576172\" xlink:href=\"#DejaVuSans-4c\"/>\r\n       <use x=\"121.242188\" xlink:href=\"#DejaVuSans-4f\"/>\r\n       <use x=\"199.953125\" xlink:href=\"#DejaVuSans-43\"/>\r\n      </g>\r\n     </g>\r\n    </g>\r\n    <g id=\"xtick_3\">\r\n     <g id=\"line2d_3\">\r\n      <g>\r\n       <use style=\"stroke:#000000;stroke-width:0.8;\" x=\"146.95625\" xlink:href=\"#m05c064601a\" y=\"228.14\"/>\r\n      </g>\r\n     </g>\r\n     <g id=\"text_3\">\r\n      <!-- B-MISC -->\r\n      <defs>\r\n       <path d=\"M 9.8125 72.90625 \r\nL 24.515625 72.90625 \r\nL 43.109375 23.296875 \r\nL 61.8125 72.90625 \r\nL 76.515625 72.90625 \r\nL 76.515625 0 \r\nL 66.890625 0 \r\nL 66.890625 64.015625 \r\nL 48.09375 14.015625 \r\nL 38.1875 14.015625 \r\nL 19.390625 64.015625 \r\nL 19.390625 0 \r\nL 9.8125 0 \r\nz\r\n\" id=\"DejaVuSans-4d\"/>\r\n       <path d=\"M 53.515625 70.515625 \r\nL 53.515625 60.890625 \r\nQ 47.90625 63.578125 42.921875 64.890625 \r\nQ 37.9375 66.21875 33.296875 66.21875 \r\nQ 25.25 66.21875 20.875 63.09375 \r\nQ 16.5 59.96875 16.5 54.203125 \r\nQ 16.5 49.359375 19.40625 46.890625 \r\nQ 22.3125 44.4375 30.421875 42.921875 \r\nL 36.375 41.703125 \r\nQ 47.40625 39.59375 52.65625 34.296875 \r\nQ 57.90625 29 57.90625 20.125 \r\nQ 57.90625 9.515625 50.796875 4.046875 \r\nQ 43.703125 -1.421875 29.984375 -1.421875 \r\nQ 24.8125 -1.421875 18.96875 -0.25 \r\nQ 13.140625 0.921875 6.890625 3.21875 \r\nL 6.890625 13.375 \r\nQ 12.890625 10.015625 18.65625 8.296875 \r\nQ 24.421875 6.59375 29.984375 6.59375 \r\nQ 38.421875 6.59375 43.015625 9.90625 \r\nQ 47.609375 13.234375 47.609375 19.390625 \r\nQ 47.609375 24.75 44.3125 27.78125 \r\nQ 41.015625 30.8125 33.5 32.328125 \r\nL 27.484375 33.5 \r\nQ 16.453125 35.6875 11.515625 40.375 \r\nQ 6.59375 45.0625 6.59375 53.421875 \r\nQ 6.59375 63.09375 13.40625 68.65625 \r\nQ 20.21875 74.21875 32.171875 74.21875 \r\nQ 37.3125 74.21875 42.625 73.28125 \r\nQ 47.953125 72.359375 53.515625 70.515625 \r\nz\r\n\" id=\"DejaVuSans-53\"/>\r\n      </defs>\r\n      <g transform=\"translate(129.267188 242.738437)scale(0.1 -0.1)\">\r\n       <use xlink:href=\"#DejaVuSans-42\"/>\r\n       <use x=\"68.603516\" xlink:href=\"#DejaVuSans-2d\"/>\r\n       <use x=\"104.6875\" xlink:href=\"#DejaVuSans-4d\"/>\r\n       <use x=\"190.966797\" xlink:href=\"#DejaVuSans-49\"/>\r\n       <use x=\"220.458984\" xlink:href=\"#DejaVuSans-53\"/>\r\n       <use x=\"283.935547\" xlink:href=\"#DejaVuSans-43\"/>\r\n      </g>\r\n     </g>\r\n    </g>\r\n    <g id=\"xtick_4\">\r\n     <g id=\"line2d_4\">\r\n      <g>\r\n       <use style=\"stroke:#000000;stroke-width:0.8;\" x=\"180.43625\" xlink:href=\"#m05c064601a\" y=\"228.14\"/>\r\n      </g>\r\n     </g>\r\n     <g id=\"text_4\">\r\n      <!-- I-MISC -->\r\n      <g transform=\"translate(164.702656 242.738437)scale(0.1 -0.1)\">\r\n       <use xlink:href=\"#DejaVuSans-49\"/>\r\n       <use x=\"29.492188\" xlink:href=\"#DejaVuSans-2d\"/>\r\n       <use x=\"65.576172\" xlink:href=\"#DejaVuSans-4d\"/>\r\n       <use x=\"151.855469\" xlink:href=\"#DejaVuSans-49\"/>\r\n       <use x=\"181.347656\" xlink:href=\"#DejaVuSans-53\"/>\r\n       <use x=\"244.824219\" xlink:href=\"#DejaVuSans-43\"/>\r\n      </g>\r\n     </g>\r\n    </g>\r\n    <g id=\"xtick_5\">\r\n     <g id=\"line2d_5\">\r\n      <g>\r\n       <use style=\"stroke:#000000;stroke-width:0.8;\" x=\"213.91625\" xlink:href=\"#m05c064601a\" y=\"228.14\"/>\r\n      </g>\r\n     </g>\r\n     <g id=\"text_5\">\r\n      <!-- B-ORG -->\r\n      <defs>\r\n       <path d=\"M 44.390625 34.1875 \r\nQ 47.5625 33.109375 50.5625 29.59375 \r\nQ 53.5625 26.078125 56.59375 19.921875 \r\nL 66.609375 0 \r\nL 56 0 \r\nL 46.6875 18.703125 \r\nQ 43.0625 26.03125 39.671875 28.421875 \r\nQ 36.28125 30.8125 30.421875 30.8125 \r\nL 19.671875 30.8125 \r\nL 19.671875 0 \r\nL 9.8125 0 \r\nL 9.8125 72.90625 \r\nL 32.078125 72.90625 \r\nQ 44.578125 72.90625 50.734375 67.671875 \r\nQ 56.890625 62.453125 56.890625 51.90625 \r\nQ 56.890625 45.015625 53.6875 40.46875 \r\nQ 50.484375 35.9375 44.390625 34.1875 \r\nz\r\nM 19.671875 64.796875 \r\nL 19.671875 38.921875 \r\nL 32.078125 38.921875 \r\nQ 39.203125 38.921875 42.84375 42.21875 \r\nQ 46.484375 45.515625 46.484375 51.90625 \r\nQ 46.484375 58.296875 42.84375 61.546875 \r\nQ 39.203125 64.796875 32.078125 64.796875 \r\nz\r\n\" id=\"DejaVuSans-52\"/>\r\n       <path d=\"M 59.515625 10.40625 \r\nL 59.515625 29.984375 \r\nL 43.40625 29.984375 \r\nL 43.40625 38.09375 \r\nL 69.28125 38.09375 \r\nL 69.28125 6.78125 \r\nQ 63.578125 2.734375 56.6875 0.65625 \r\nQ 49.8125 -1.421875 42 -1.421875 \r\nQ 24.90625 -1.421875 15.25 8.5625 \r\nQ 5.609375 18.5625 5.609375 36.375 \r\nQ 5.609375 54.25 15.25 64.234375 \r\nQ 24.90625 74.21875 42 74.21875 \r\nQ 49.125 74.21875 55.546875 72.453125 \r\nQ 61.96875 70.703125 67.390625 67.28125 \r\nL 67.390625 56.78125 \r\nQ 61.921875 61.421875 55.765625 63.765625 \r\nQ 49.609375 66.109375 42.828125 66.109375 \r\nQ 29.4375 66.109375 22.71875 58.640625 \r\nQ 16.015625 51.171875 16.015625 36.375 \r\nQ 16.015625 21.625 22.71875 14.15625 \r\nQ 29.4375 6.6875 42.828125 6.6875 \r\nQ 48.046875 6.6875 52.140625 7.59375 \r\nQ 56.25 8.5 59.515625 10.40625 \r\nz\r\n\" id=\"DejaVuSans-47\"/>\r\n      </defs>\r\n      <g transform=\"translate(197.395938 242.738437)scale(0.1 -0.1)\">\r\n       <use xlink:href=\"#DejaVuSans-42\"/>\r\n       <use x=\"68.603516\" xlink:href=\"#DejaVuSans-2d\"/>\r\n       <use x=\"104.71875\" xlink:href=\"#DejaVuSans-4f\"/>\r\n       <use x=\"183.429688\" xlink:href=\"#DejaVuSans-52\"/>\r\n       <use x=\"252.912109\" xlink:href=\"#DejaVuSans-47\"/>\r\n      </g>\r\n     </g>\r\n    </g>\r\n    <g id=\"xtick_6\">\r\n     <g id=\"line2d_6\">\r\n      <g>\r\n       <use style=\"stroke:#000000;stroke-width:0.8;\" x=\"247.39625\" xlink:href=\"#m05c064601a\" y=\"228.14\"/>\r\n      </g>\r\n     </g>\r\n     <g id=\"text_6\">\r\n      <!-- I-ORG -->\r\n      <g transform=\"translate(232.831406 242.738437)scale(0.1 -0.1)\">\r\n       <use xlink:href=\"#DejaVuSans-49\"/>\r\n       <use x=\"29.492188\" xlink:href=\"#DejaVuSans-2d\"/>\r\n       <use x=\"65.607422\" xlink:href=\"#DejaVuSans-4f\"/>\r\n       <use x=\"144.318359\" xlink:href=\"#DejaVuSans-52\"/>\r\n       <use x=\"213.800781\" xlink:href=\"#DejaVuSans-47\"/>\r\n      </g>\r\n     </g>\r\n    </g>\r\n    <g id=\"xtick_7\">\r\n     <g id=\"line2d_7\">\r\n      <g>\r\n       <use style=\"stroke:#000000;stroke-width:0.8;\" x=\"280.87625\" xlink:href=\"#m05c064601a\" y=\"228.14\"/>\r\n      </g>\r\n     </g>\r\n     <g id=\"text_7\">\r\n      <!-- B-PER -->\r\n      <defs>\r\n       <path d=\"M 19.671875 64.796875 \r\nL 19.671875 37.40625 \r\nL 32.078125 37.40625 \r\nQ 38.96875 37.40625 42.71875 40.96875 \r\nQ 46.484375 44.53125 46.484375 51.125 \r\nQ 46.484375 57.671875 42.71875 61.234375 \r\nQ 38.96875 64.796875 32.078125 64.796875 \r\nz\r\nM 9.8125 72.90625 \r\nL 32.078125 72.90625 \r\nQ 44.34375 72.90625 50.609375 67.359375 \r\nQ 56.890625 61.8125 56.890625 51.125 \r\nQ 56.890625 40.328125 50.609375 34.8125 \r\nQ 44.34375 29.296875 32.078125 29.296875 \r\nL 19.671875 29.296875 \r\nL 19.671875 0 \r\nL 9.8125 0 \r\nz\r\n\" id=\"DejaVuSans-50\"/>\r\n       <path d=\"M 9.8125 72.90625 \r\nL 55.90625 72.90625 \r\nL 55.90625 64.59375 \r\nL 19.671875 64.59375 \r\nL 19.671875 43.015625 \r\nL 54.390625 43.015625 \r\nL 54.390625 34.71875 \r\nL 19.671875 34.71875 \r\nL 19.671875 8.296875 \r\nL 56.78125 8.296875 \r\nL 56.78125 0 \r\nL 9.8125 0 \r\nz\r\n\" id=\"DejaVuSans-45\"/>\r\n      </defs>\r\n      <g transform=\"translate(265.993438 242.738437)scale(0.1 -0.1)\">\r\n       <use xlink:href=\"#DejaVuSans-42\"/>\r\n       <use x=\"68.603516\" xlink:href=\"#DejaVuSans-2d\"/>\r\n       <use x=\"104.6875\" xlink:href=\"#DejaVuSans-50\"/>\r\n       <use x=\"164.990234\" xlink:href=\"#DejaVuSans-45\"/>\r\n       <use x=\"228.173828\" xlink:href=\"#DejaVuSans-52\"/>\r\n      </g>\r\n     </g>\r\n    </g>\r\n    <g id=\"xtick_8\">\r\n     <g id=\"line2d_8\">\r\n      <g>\r\n       <use style=\"stroke:#000000;stroke-width:0.8;\" x=\"314.35625\" xlink:href=\"#m05c064601a\" y=\"228.14\"/>\r\n      </g>\r\n     </g>\r\n     <g id=\"text_8\">\r\n      <!-- I-PER -->\r\n      <g transform=\"translate(301.428906 242.738437)scale(0.1 -0.1)\">\r\n       <use xlink:href=\"#DejaVuSans-49\"/>\r\n       <use x=\"29.492188\" xlink:href=\"#DejaVuSans-2d\"/>\r\n       <use x=\"65.576172\" xlink:href=\"#DejaVuSans-50\"/>\r\n       <use x=\"125.878906\" xlink:href=\"#DejaVuSans-45\"/>\r\n       <use x=\"189.0625\" xlink:href=\"#DejaVuSans-52\"/>\r\n      </g>\r\n     </g>\r\n    </g>\r\n    <g id=\"text_9\">\r\n     <!-- Predicted -->\r\n     <defs>\r\n      <path d=\"M 41.109375 46.296875 \r\nQ 39.59375 47.171875 37.8125 47.578125 \r\nQ 36.03125 48 33.890625 48 \r\nQ 26.265625 48 22.1875 43.046875 \r\nQ 18.109375 38.09375 18.109375 28.8125 \r\nL 18.109375 0 \r\nL 9.078125 0 \r\nL 9.078125 54.6875 \r\nL 18.109375 54.6875 \r\nL 18.109375 46.1875 \r\nQ 20.953125 51.171875 25.484375 53.578125 \r\nQ 30.03125 56 36.53125 56 \r\nQ 37.453125 56 38.578125 55.875 \r\nQ 39.703125 55.765625 41.0625 55.515625 \r\nz\r\n\" id=\"DejaVuSans-72\"/>\r\n      <path d=\"M 56.203125 29.59375 \r\nL 56.203125 25.203125 \r\nL 14.890625 25.203125 \r\nQ 15.484375 15.921875 20.484375 11.0625 \r\nQ 25.484375 6.203125 34.421875 6.203125 \r\nQ 39.59375 6.203125 44.453125 7.46875 \r\nQ 49.3125 8.734375 54.109375 11.28125 \r\nL 54.109375 2.78125 \r\nQ 49.265625 0.734375 44.1875 -0.34375 \r\nQ 39.109375 -1.421875 33.890625 -1.421875 \r\nQ 20.796875 -1.421875 13.15625 6.1875 \r\nQ 5.515625 13.8125 5.515625 26.8125 \r\nQ 5.515625 40.234375 12.765625 48.109375 \r\nQ 20.015625 56 32.328125 56 \r\nQ 43.359375 56 49.78125 48.890625 \r\nQ 56.203125 41.796875 56.203125 29.59375 \r\nz\r\nM 47.21875 32.234375 \r\nQ 47.125 39.59375 43.09375 43.984375 \r\nQ 39.0625 48.390625 32.421875 48.390625 \r\nQ 24.90625 48.390625 20.390625 44.140625 \r\nQ 15.875 39.890625 15.1875 32.171875 \r\nz\r\n\" id=\"DejaVuSans-65\"/>\r\n      <path d=\"M 45.40625 46.390625 \r\nL 45.40625 75.984375 \r\nL 54.390625 75.984375 \r\nL 54.390625 0 \r\nL 45.40625 0 \r\nL 45.40625 8.203125 \r\nQ 42.578125 3.328125 38.25 0.953125 \r\nQ 33.9375 -1.421875 27.875 -1.421875 \r\nQ 17.96875 -1.421875 11.734375 6.484375 \r\nQ 5.515625 14.40625 5.515625 27.296875 \r\nQ 5.515625 40.1875 11.734375 48.09375 \r\nQ 17.96875 56 27.875 56 \r\nQ 33.9375 56 38.25 53.625 \r\nQ 42.578125 51.265625 45.40625 46.390625 \r\nz\r\nM 14.796875 27.296875 \r\nQ 14.796875 17.390625 18.875 11.75 \r\nQ 22.953125 6.109375 30.078125 6.109375 \r\nQ 37.203125 6.109375 41.296875 11.75 \r\nQ 45.40625 17.390625 45.40625 27.296875 \r\nQ 45.40625 37.203125 41.296875 42.84375 \r\nQ 37.203125 48.484375 30.078125 48.484375 \r\nQ 22.953125 48.484375 18.875 42.84375 \r\nQ 14.796875 37.203125 14.796875 27.296875 \r\nz\r\n\" id=\"DejaVuSans-64\"/>\r\n      <path d=\"M 9.421875 54.6875 \r\nL 18.40625 54.6875 \r\nL 18.40625 0 \r\nL 9.421875 0 \r\nz\r\nM 9.421875 75.984375 \r\nL 18.40625 75.984375 \r\nL 18.40625 64.59375 \r\nL 9.421875 64.59375 \r\nz\r\n\" id=\"DejaVuSans-69\"/>\r\n      <path d=\"M 48.78125 52.59375 \r\nL 48.78125 44.1875 \r\nQ 44.96875 46.296875 41.140625 47.34375 \r\nQ 37.3125 48.390625 33.40625 48.390625 \r\nQ 24.65625 48.390625 19.8125 42.84375 \r\nQ 14.984375 37.3125 14.984375 27.296875 \r\nQ 14.984375 17.28125 19.8125 11.734375 \r\nQ 24.65625 6.203125 33.40625 6.203125 \r\nQ 37.3125 6.203125 41.140625 7.25 \r\nQ 44.96875 8.296875 48.78125 10.40625 \r\nL 48.78125 2.09375 \r\nQ 45.015625 0.34375 40.984375 -0.53125 \r\nQ 36.96875 -1.421875 32.421875 -1.421875 \r\nQ 20.0625 -1.421875 12.78125 6.34375 \r\nQ 5.515625 14.109375 5.515625 27.296875 \r\nQ 5.515625 40.671875 12.859375 48.328125 \r\nQ 20.21875 56 33.015625 56 \r\nQ 37.15625 56 41.109375 55.140625 \r\nQ 45.0625 54.296875 48.78125 52.59375 \r\nz\r\n\" id=\"DejaVuSans-63\"/>\r\n      <path d=\"M 18.3125 70.21875 \r\nL 18.3125 54.6875 \r\nL 36.8125 54.6875 \r\nL 36.8125 47.703125 \r\nL 18.3125 47.703125 \r\nL 18.3125 18.015625 \r\nQ 18.3125 11.328125 20.140625 9.421875 \r\nQ 21.96875 7.515625 27.59375 7.515625 \r\nL 36.8125 7.515625 \r\nL 36.8125 0 \r\nL 27.59375 0 \r\nQ 17.1875 0 13.234375 3.875 \r\nQ 9.28125 7.765625 9.28125 18.015625 \r\nL 9.28125 47.703125 \r\nL 2.6875 47.703125 \r\nL 2.6875 54.6875 \r\nL 9.28125 54.6875 \r\nL 9.28125 70.21875 \r\nz\r\n\" id=\"DejaVuSans-74\"/>\r\n     </defs>\r\n     <g transform=\"translate(173.508281 256.416562)scale(0.1 -0.1)\">\r\n      <use xlink:href=\"#DejaVuSans-50\"/>\r\n      <use x=\"60.287109\" xlink:href=\"#DejaVuSans-72\"/>\r\n      <use x=\"101.369141\" xlink:href=\"#DejaVuSans-65\"/>\r\n      <use x=\"162.892578\" xlink:href=\"#DejaVuSans-64\"/>\r\n      <use x=\"226.369141\" xlink:href=\"#DejaVuSans-69\"/>\r\n      <use x=\"254.152344\" xlink:href=\"#DejaVuSans-63\"/>\r\n      <use x=\"309.132812\" xlink:href=\"#DejaVuSans-74\"/>\r\n      <use x=\"348.341797\" xlink:href=\"#DejaVuSans-65\"/>\r\n      <use x=\"409.865234\" xlink:href=\"#DejaVuSans-64\"/>\r\n     </g>\r\n    </g>\r\n   </g>\r\n   <g id=\"matplotlib.axis_2\">\r\n    <g id=\"ytick_1\">\r\n     <g id=\"line2d_9\">\r\n      <defs>\r\n       <path d=\"M 0 0 \r\nL -3.5 0 \r\n\" id=\"m16ceda2134\" style=\"stroke:#000000;stroke-width:0.8;\"/>\r\n      </defs>\r\n      <g>\r\n       <use style=\"stroke:#000000;stroke-width:0.8;\" x=\"63.25625\" xlink:href=\"#m16ceda2134\" y=\"24.29\"/>\r\n      </g>\r\n     </g>\r\n     <g id=\"text_10\">\r\n      <!-- B-LOC -->\r\n      <g transform=\"translate(25.365625 28.089219)scale(0.1 -0.1)\">\r\n       <use xlink:href=\"#DejaVuSans-42\"/>\r\n       <use x=\"68.603516\" xlink:href=\"#DejaVuSans-2d\"/>\r\n       <use x=\"104.6875\" xlink:href=\"#DejaVuSans-4c\"/>\r\n       <use x=\"160.353516\" xlink:href=\"#DejaVuSans-4f\"/>\r\n       <use x=\"239.064453\" xlink:href=\"#DejaVuSans-43\"/>\r\n      </g>\r\n     </g>\r\n    </g>\r\n    <g id=\"ytick_2\">\r\n     <g id=\"line2d_10\">\r\n      <g>\r\n       <use style=\"stroke:#000000;stroke-width:0.8;\" x=\"63.25625\" xlink:href=\"#m16ceda2134\" y=\"51.47\"/>\r\n      </g>\r\n     </g>\r\n     <g id=\"text_11\">\r\n      <!-- I-LOC -->\r\n      <g transform=\"translate(29.276563 55.269219)scale(0.1 -0.1)\">\r\n       <use xlink:href=\"#DejaVuSans-49\"/>\r\n       <use x=\"29.492188\" xlink:href=\"#DejaVuSans-2d\"/>\r\n       <use x=\"65.576172\" xlink:href=\"#DejaVuSans-4c\"/>\r\n       <use x=\"121.242188\" xlink:href=\"#DejaVuSans-4f\"/>\r\n       <use x=\"199.953125\" xlink:href=\"#DejaVuSans-43\"/>\r\n      </g>\r\n     </g>\r\n    </g>\r\n    <g id=\"ytick_3\">\r\n     <g id=\"line2d_11\">\r\n      <g>\r\n       <use style=\"stroke:#000000;stroke-width:0.8;\" x=\"63.25625\" xlink:href=\"#m16ceda2134\" y=\"78.65\"/>\r\n      </g>\r\n     </g>\r\n     <g id=\"text_12\">\r\n      <!-- B-MISC -->\r\n      <g transform=\"translate(20.878125 82.449219)scale(0.1 -0.1)\">\r\n       <use xlink:href=\"#DejaVuSans-42\"/>\r\n       <use x=\"68.603516\" xlink:href=\"#DejaVuSans-2d\"/>\r\n       <use x=\"104.6875\" xlink:href=\"#DejaVuSans-4d\"/>\r\n       <use x=\"190.966797\" xlink:href=\"#DejaVuSans-49\"/>\r\n       <use x=\"220.458984\" xlink:href=\"#DejaVuSans-53\"/>\r\n       <use x=\"283.935547\" xlink:href=\"#DejaVuSans-43\"/>\r\n      </g>\r\n     </g>\r\n    </g>\r\n    <g id=\"ytick_4\">\r\n     <g id=\"line2d_12\">\r\n      <g>\r\n       <use style=\"stroke:#000000;stroke-width:0.8;\" x=\"63.25625\" xlink:href=\"#m16ceda2134\" y=\"105.83\"/>\r\n      </g>\r\n     </g>\r\n     <g id=\"text_13\">\r\n      <!-- I-MISC -->\r\n      <g transform=\"translate(24.789063 109.629219)scale(0.1 -0.1)\">\r\n       <use xlink:href=\"#DejaVuSans-49\"/>\r\n       <use x=\"29.492188\" xlink:href=\"#DejaVuSans-2d\"/>\r\n       <use x=\"65.576172\" xlink:href=\"#DejaVuSans-4d\"/>\r\n       <use x=\"151.855469\" xlink:href=\"#DejaVuSans-49\"/>\r\n       <use x=\"181.347656\" xlink:href=\"#DejaVuSans-53\"/>\r\n       <use x=\"244.824219\" xlink:href=\"#DejaVuSans-43\"/>\r\n      </g>\r\n     </g>\r\n    </g>\r\n    <g id=\"ytick_5\">\r\n     <g id=\"line2d_13\">\r\n      <g>\r\n       <use style=\"stroke:#000000;stroke-width:0.8;\" x=\"63.25625\" xlink:href=\"#m16ceda2134\" y=\"133.01\"/>\r\n      </g>\r\n     </g>\r\n     <g id=\"text_14\">\r\n      <!-- B-ORG -->\r\n      <g transform=\"translate(23.215625 136.809219)scale(0.1 -0.1)\">\r\n       <use xlink:href=\"#DejaVuSans-42\"/>\r\n       <use x=\"68.603516\" xlink:href=\"#DejaVuSans-2d\"/>\r\n       <use x=\"104.71875\" xlink:href=\"#DejaVuSans-4f\"/>\r\n       <use x=\"183.429688\" xlink:href=\"#DejaVuSans-52\"/>\r\n       <use x=\"252.912109\" xlink:href=\"#DejaVuSans-47\"/>\r\n      </g>\r\n     </g>\r\n    </g>\r\n    <g id=\"ytick_6\">\r\n     <g id=\"line2d_14\">\r\n      <g>\r\n       <use style=\"stroke:#000000;stroke-width:0.8;\" x=\"63.25625\" xlink:href=\"#m16ceda2134\" y=\"160.19\"/>\r\n      </g>\r\n     </g>\r\n     <g id=\"text_15\">\r\n      <!-- I-ORG -->\r\n      <g transform=\"translate(27.126563 163.989219)scale(0.1 -0.1)\">\r\n       <use xlink:href=\"#DejaVuSans-49\"/>\r\n       <use x=\"29.492188\" xlink:href=\"#DejaVuSans-2d\"/>\r\n       <use x=\"65.607422\" xlink:href=\"#DejaVuSans-4f\"/>\r\n       <use x=\"144.318359\" xlink:href=\"#DejaVuSans-52\"/>\r\n       <use x=\"213.800781\" xlink:href=\"#DejaVuSans-47\"/>\r\n      </g>\r\n     </g>\r\n    </g>\r\n    <g id=\"ytick_7\">\r\n     <g id=\"line2d_15\">\r\n      <g>\r\n       <use style=\"stroke:#000000;stroke-width:0.8;\" x=\"63.25625\" xlink:href=\"#m16ceda2134\" y=\"187.37\"/>\r\n      </g>\r\n     </g>\r\n     <g id=\"text_16\">\r\n      <!-- B-PER -->\r\n      <g transform=\"translate(26.490625 191.169219)scale(0.1 -0.1)\">\r\n       <use xlink:href=\"#DejaVuSans-42\"/>\r\n       <use x=\"68.603516\" xlink:href=\"#DejaVuSans-2d\"/>\r\n       <use x=\"104.6875\" xlink:href=\"#DejaVuSans-50\"/>\r\n       <use x=\"164.990234\" xlink:href=\"#DejaVuSans-45\"/>\r\n       <use x=\"228.173828\" xlink:href=\"#DejaVuSans-52\"/>\r\n      </g>\r\n     </g>\r\n    </g>\r\n    <g id=\"ytick_8\">\r\n     <g id=\"line2d_16\">\r\n      <g>\r\n       <use style=\"stroke:#000000;stroke-width:0.8;\" x=\"63.25625\" xlink:href=\"#m16ceda2134\" y=\"214.55\"/>\r\n      </g>\r\n     </g>\r\n     <g id=\"text_17\">\r\n      <!-- I-PER -->\r\n      <g transform=\"translate(30.401563 218.349219)scale(0.1 -0.1)\">\r\n       <use xlink:href=\"#DejaVuSans-49\"/>\r\n       <use x=\"29.492188\" xlink:href=\"#DejaVuSans-2d\"/>\r\n       <use x=\"65.576172\" xlink:href=\"#DejaVuSans-50\"/>\r\n       <use x=\"125.878906\" xlink:href=\"#DejaVuSans-45\"/>\r\n       <use x=\"189.0625\" xlink:href=\"#DejaVuSans-52\"/>\r\n      </g>\r\n     </g>\r\n    </g>\r\n    <g id=\"text_18\">\r\n     <!-- True -->\r\n     <defs>\r\n      <path d=\"M -0.296875 72.90625 \r\nL 61.375 72.90625 \r\nL 61.375 64.59375 \r\nL 35.5 64.59375 \r\nL 35.5 0 \r\nL 25.59375 0 \r\nL 25.59375 64.59375 \r\nL -0.296875 64.59375 \r\nz\r\n\" id=\"DejaVuSans-54\"/>\r\n      <path d=\"M 8.5 21.578125 \r\nL 8.5 54.6875 \r\nL 17.484375 54.6875 \r\nL 17.484375 21.921875 \r\nQ 17.484375 14.15625 20.5 10.265625 \r\nQ 23.53125 6.390625 29.59375 6.390625 \r\nQ 36.859375 6.390625 41.078125 11.03125 \r\nQ 45.3125 15.671875 45.3125 23.6875 \r\nL 45.3125 54.6875 \r\nL 54.296875 54.6875 \r\nL 54.296875 0 \r\nL 45.3125 0 \r\nL 45.3125 8.40625 \r\nQ 42.046875 3.421875 37.71875 1 \r\nQ 33.40625 -1.421875 27.6875 -1.421875 \r\nQ 18.265625 -1.421875 13.375 4.4375 \r\nQ 8.5 10.296875 8.5 21.578125 \r\nz\r\nM 31.109375 56 \r\nz\r\n\" id=\"DejaVuSans-75\"/>\r\n     </defs>\r\n     <g transform=\"translate(14.798438 130.76375)rotate(-90)scale(0.1 -0.1)\">\r\n      <use xlink:href=\"#DejaVuSans-54\"/>\r\n      <use x=\"60.865234\" xlink:href=\"#DejaVuSans-72\"/>\r\n      <use x=\"101.978516\" xlink:href=\"#DejaVuSans-75\"/>\r\n      <use x=\"165.357422\" xlink:href=\"#DejaVuSans-65\"/>\r\n     </g>\r\n    </g>\r\n   </g>\r\n  </g>\r\n  <g id=\"axes_2\">\r\n   <g id=\"patch_3\">\r\n    <path clip-path=\"url(#p4ced595c17)\" d=\"M 347.83625 228.14 \r\nL 347.83625 227.290625 \r\nL 347.83625 11.549375 \r\nL 347.83625 10.7 \r\nL 358.70825 10.7 \r\nL 358.70825 11.549375 \r\nL 358.70825 227.290625 \r\nL 358.70825 228.14 \r\nz\r\n\" style=\"fill:#ffffff;stroke:#ffffff;stroke-linejoin:miter;stroke-width:0.01;\"/>\r\n   </g>\r\n   <image height=\"217\" id=\"image3547913ab8\" transform=\"scale(1 -1)translate(0 -217)\" width=\"11\" x=\"348\" xlink:href=\"data:image/png;base64,\r\niVBORw0KGgoAAAANSUhEUgAAAAsAAADZCAYAAAD2WsoCAAAABHNCSVQICAgIfAhkiAAAARxJREFUaIHtmDEOAjEQAwPK/59LgciGFrpMMciL7mpr5dheJ7rb47n3OPzmHsfYMc/nYjChAbBjAizkXAB9ByxM6UIchJMBGGYDcC5NupEhHcwG4ezR0HqD2d2wvjr2Rop0V/h/QiNEOu1VkHJAZDc8oHbDag4udMAMzpWR5zof7LaoxblARhlnszfA5OVVgZc67XGCqkBsUe3uXiTPXj97DiKdF+gC08FzrEnDywa0O6LMPZ3ZPSi2qLewEdJ5/dwxG2i7PZ3NvxCo+SN2MCQb7JXLaESoAQ9o0QiZbNoNaHhB8uzuGKSQ7WZ/AsVsnL8ZUzgzcIbdIdn4f7uvbHyAod2IRsPJ9bImt1RjRdBAk8nCXnZ/gTvabU1+A25V4hFkL86SAAAAAElFTkSuQmCC\" y=\"-10\"/>\r\n   <g id=\"matplotlib.axis_3\"/>\r\n   <g id=\"matplotlib.axis_4\">\r\n    <g id=\"ytick_9\">\r\n     <g id=\"line2d_17\">\r\n      <defs>\r\n       <path d=\"M 0 0 \r\nL 3.5 0 \r\n\" id=\"m6fcd1777bd\" style=\"stroke:#000000;stroke-width:0.8;\"/>\r\n      </defs>\r\n      <g>\r\n       <use style=\"stroke:#000000;stroke-width:0.8;\" x=\"358.70825\" xlink:href=\"#m6fcd1777bd\" y=\"228.14\"/>\r\n      </g>\r\n     </g>\r\n     <g id=\"text_19\">\r\n      <!-- 0 -->\r\n      <defs>\r\n       <path d=\"M 31.78125 66.40625 \r\nQ 24.171875 66.40625 20.328125 58.90625 \r\nQ 16.5 51.421875 16.5 36.375 \r\nQ 16.5 21.390625 20.328125 13.890625 \r\nQ 24.171875 6.390625 31.78125 6.390625 \r\nQ 39.453125 6.390625 43.28125 13.890625 \r\nQ 47.125 21.390625 47.125 36.375 \r\nQ 47.125 51.421875 43.28125 58.90625 \r\nQ 39.453125 66.40625 31.78125 66.40625 \r\nz\r\nM 31.78125 74.21875 \r\nQ 44.046875 74.21875 50.515625 64.515625 \r\nQ 56.984375 54.828125 56.984375 36.375 \r\nQ 56.984375 17.96875 50.515625 8.265625 \r\nQ 44.046875 -1.421875 31.78125 -1.421875 \r\nQ 19.53125 -1.421875 13.0625 8.265625 \r\nQ 6.59375 17.96875 6.59375 36.375 \r\nQ 6.59375 54.828125 13.0625 64.515625 \r\nQ 19.53125 74.21875 31.78125 74.21875 \r\nz\r\n\" id=\"DejaVuSans-30\"/>\r\n      </defs>\r\n      <g transform=\"translate(365.70825 231.939219)scale(0.1 -0.1)\">\r\n       <use xlink:href=\"#DejaVuSans-30\"/>\r\n      </g>\r\n     </g>\r\n    </g>\r\n    <g id=\"ytick_10\">\r\n     <g id=\"line2d_18\">\r\n      <g>\r\n       <use style=\"stroke:#000000;stroke-width:0.8;\" x=\"358.70825\" xlink:href=\"#m6fcd1777bd\" y=\"180.350989\"/>\r\n      </g>\r\n     </g>\r\n     <g id=\"text_20\">\r\n      <!-- 40 -->\r\n      <defs>\r\n       <path d=\"M 37.796875 64.3125 \r\nL 12.890625 25.390625 \r\nL 37.796875 25.390625 \r\nz\r\nM 35.203125 72.90625 \r\nL 47.609375 72.90625 \r\nL 47.609375 25.390625 \r\nL 58.015625 25.390625 \r\nL 58.015625 17.1875 \r\nL 47.609375 17.1875 \r\nL 47.609375 0 \r\nL 37.796875 0 \r\nL 37.796875 17.1875 \r\nL 4.890625 17.1875 \r\nL 4.890625 26.703125 \r\nz\r\n\" id=\"DejaVuSans-34\"/>\r\n      </defs>\r\n      <g transform=\"translate(365.70825 184.150208)scale(0.1 -0.1)\">\r\n       <use xlink:href=\"#DejaVuSans-34\"/>\r\n       <use x=\"63.623047\" xlink:href=\"#DejaVuSans-30\"/>\r\n      </g>\r\n     </g>\r\n    </g>\r\n    <g id=\"ytick_11\">\r\n     <g id=\"line2d_19\">\r\n      <g>\r\n       <use style=\"stroke:#000000;stroke-width:0.8;\" x=\"358.70825\" xlink:href=\"#m6fcd1777bd\" y=\"132.561978\"/>\r\n      </g>\r\n     </g>\r\n     <g id=\"text_21\">\r\n      <!-- 80 -->\r\n      <defs>\r\n       <path d=\"M 31.78125 34.625 \r\nQ 24.75 34.625 20.71875 30.859375 \r\nQ 16.703125 27.09375 16.703125 20.515625 \r\nQ 16.703125 13.921875 20.71875 10.15625 \r\nQ 24.75 6.390625 31.78125 6.390625 \r\nQ 38.8125 6.390625 42.859375 10.171875 \r\nQ 46.921875 13.96875 46.921875 20.515625 \r\nQ 46.921875 27.09375 42.890625 30.859375 \r\nQ 38.875 34.625 31.78125 34.625 \r\nz\r\nM 21.921875 38.8125 \r\nQ 15.578125 40.375 12.03125 44.71875 \r\nQ 8.5 49.078125 8.5 55.328125 \r\nQ 8.5 64.0625 14.71875 69.140625 \r\nQ 20.953125 74.21875 31.78125 74.21875 \r\nQ 42.671875 74.21875 48.875 69.140625 \r\nQ 55.078125 64.0625 55.078125 55.328125 \r\nQ 55.078125 49.078125 51.53125 44.71875 \r\nQ 48 40.375 41.703125 38.8125 \r\nQ 48.828125 37.15625 52.796875 32.3125 \r\nQ 56.78125 27.484375 56.78125 20.515625 \r\nQ 56.78125 9.90625 50.3125 4.234375 \r\nQ 43.84375 -1.421875 31.78125 -1.421875 \r\nQ 19.734375 -1.421875 13.25 4.234375 \r\nQ 6.78125 9.90625 6.78125 20.515625 \r\nQ 6.78125 27.484375 10.78125 32.3125 \r\nQ 14.796875 37.15625 21.921875 38.8125 \r\nz\r\nM 18.3125 54.390625 \r\nQ 18.3125 48.734375 21.84375 45.5625 \r\nQ 25.390625 42.390625 31.78125 42.390625 \r\nQ 38.140625 42.390625 41.71875 45.5625 \r\nQ 45.3125 48.734375 45.3125 54.390625 \r\nQ 45.3125 60.0625 41.71875 63.234375 \r\nQ 38.140625 66.40625 31.78125 66.40625 \r\nQ 25.390625 66.40625 21.84375 63.234375 \r\nQ 18.3125 60.0625 18.3125 54.390625 \r\nz\r\n\" id=\"DejaVuSans-38\"/>\r\n      </defs>\r\n      <g transform=\"translate(365.70825 136.361197)scale(0.1 -0.1)\">\r\n       <use xlink:href=\"#DejaVuSans-38\"/>\r\n       <use x=\"63.623047\" xlink:href=\"#DejaVuSans-30\"/>\r\n      </g>\r\n     </g>\r\n    </g>\r\n    <g id=\"ytick_12\">\r\n     <g id=\"line2d_20\">\r\n      <g>\r\n       <use style=\"stroke:#000000;stroke-width:0.8;\" x=\"358.70825\" xlink:href=\"#m6fcd1777bd\" y=\"84.772967\"/>\r\n      </g>\r\n     </g>\r\n     <g id=\"text_22\">\r\n      <!-- 120 -->\r\n      <defs>\r\n       <path d=\"M 12.40625 8.296875 \r\nL 28.515625 8.296875 \r\nL 28.515625 63.921875 \r\nL 10.984375 60.40625 \r\nL 10.984375 69.390625 \r\nL 28.421875 72.90625 \r\nL 38.28125 72.90625 \r\nL 38.28125 8.296875 \r\nL 54.390625 8.296875 \r\nL 54.390625 0 \r\nL 12.40625 0 \r\nz\r\n\" id=\"DejaVuSans-31\"/>\r\n       <path d=\"M 19.1875 8.296875 \r\nL 53.609375 8.296875 \r\nL 53.609375 0 \r\nL 7.328125 0 \r\nL 7.328125 8.296875 \r\nQ 12.9375 14.109375 22.625 23.890625 \r\nQ 32.328125 33.6875 34.8125 36.53125 \r\nQ 39.546875 41.84375 41.421875 45.53125 \r\nQ 43.3125 49.21875 43.3125 52.78125 \r\nQ 43.3125 58.59375 39.234375 62.25 \r\nQ 35.15625 65.921875 28.609375 65.921875 \r\nQ 23.96875 65.921875 18.8125 64.3125 \r\nQ 13.671875 62.703125 7.8125 59.421875 \r\nL 7.8125 69.390625 \r\nQ 13.765625 71.78125 18.9375 73 \r\nQ 24.125 74.21875 28.421875 74.21875 \r\nQ 39.75 74.21875 46.484375 68.546875 \r\nQ 53.21875 62.890625 53.21875 53.421875 \r\nQ 53.21875 48.921875 51.53125 44.890625 \r\nQ 49.859375 40.875 45.40625 35.40625 \r\nQ 44.1875 33.984375 37.640625 27.21875 \r\nQ 31.109375 20.453125 19.1875 8.296875 \r\nz\r\n\" id=\"DejaVuSans-32\"/>\r\n      </defs>\r\n      <g transform=\"translate(365.70825 88.572186)scale(0.1 -0.1)\">\r\n       <use xlink:href=\"#DejaVuSans-31\"/>\r\n       <use x=\"63.623047\" xlink:href=\"#DejaVuSans-32\"/>\r\n       <use x=\"127.246094\" xlink:href=\"#DejaVuSans-30\"/>\r\n      </g>\r\n     </g>\r\n    </g>\r\n    <g id=\"ytick_13\">\r\n     <g id=\"line2d_21\">\r\n      <g>\r\n       <use style=\"stroke:#000000;stroke-width:0.8;\" x=\"358.70825\" xlink:href=\"#m6fcd1777bd\" y=\"36.983956\"/>\r\n      </g>\r\n     </g>\r\n     <g id=\"text_23\">\r\n      <!-- 160 -->\r\n      <defs>\r\n       <path d=\"M 33.015625 40.375 \r\nQ 26.375 40.375 22.484375 35.828125 \r\nQ 18.609375 31.296875 18.609375 23.390625 \r\nQ 18.609375 15.53125 22.484375 10.953125 \r\nQ 26.375 6.390625 33.015625 6.390625 \r\nQ 39.65625 6.390625 43.53125 10.953125 \r\nQ 47.40625 15.53125 47.40625 23.390625 \r\nQ 47.40625 31.296875 43.53125 35.828125 \r\nQ 39.65625 40.375 33.015625 40.375 \r\nz\r\nM 52.59375 71.296875 \r\nL 52.59375 62.3125 \r\nQ 48.875 64.0625 45.09375 64.984375 \r\nQ 41.3125 65.921875 37.59375 65.921875 \r\nQ 27.828125 65.921875 22.671875 59.328125 \r\nQ 17.53125 52.734375 16.796875 39.40625 \r\nQ 19.671875 43.65625 24.015625 45.921875 \r\nQ 28.375 48.1875 33.59375 48.1875 \r\nQ 44.578125 48.1875 50.953125 41.515625 \r\nQ 57.328125 34.859375 57.328125 23.390625 \r\nQ 57.328125 12.15625 50.6875 5.359375 \r\nQ 44.046875 -1.421875 33.015625 -1.421875 \r\nQ 20.359375 -1.421875 13.671875 8.265625 \r\nQ 6.984375 17.96875 6.984375 36.375 \r\nQ 6.984375 53.65625 15.1875 63.9375 \r\nQ 23.390625 74.21875 37.203125 74.21875 \r\nQ 40.921875 74.21875 44.703125 73.484375 \r\nQ 48.484375 72.75 52.59375 71.296875 \r\nz\r\n\" id=\"DejaVuSans-36\"/>\r\n      </defs>\r\n      <g transform=\"translate(365.70825 40.783175)scale(0.1 -0.1)\">\r\n       <use xlink:href=\"#DejaVuSans-31\"/>\r\n       <use x=\"63.623047\" xlink:href=\"#DejaVuSans-36\"/>\r\n       <use x=\"127.246094\" xlink:href=\"#DejaVuSans-30\"/>\r\n      </g>\r\n     </g>\r\n    </g>\r\n   </g>\r\n   <g id=\"patch_4\">\r\n    <path d=\"M 347.83625 228.14 \r\nL 347.83625 227.290625 \r\nL 347.83625 11.549375 \r\nL 347.83625 10.7 \r\nL 358.70825 10.7 \r\nL 358.70825 11.549375 \r\nL 358.70825 227.290625 \r\nL 358.70825 228.14 \r\nz\r\n\" style=\"fill:none;\"/>\r\n   </g>\r\n  </g>\r\n </g>\r\n <defs>\r\n  <clipPath id=\"pd528dac114\">\r\n   <rect height=\"217.44\" width=\"267.84\" x=\"63.25625\" y=\"10.7\"/>\r\n  </clipPath>\r\n  <clipPath id=\"p4ced595c17\">\r\n   <rect height=\"217.44\" width=\"10.872\" x=\"347.83625\" y=\"10.7\"/>\r\n  </clipPath>\r\n </defs>\r\n</svg>\r\n",
            "text/plain": "<Figure size 432x288 with 2 Axes>"
          },
          "metadata": {
            "needs_background": "light"
          },
          "output_type": "display_data"
        }
      ],
      "source": [
        "# Confusion matrices\n",
        "\n",
        "model_name = f'./models/crf_27_11_19_mixed.pickle'\n",
        "\n",
        "with open(model_name,'rb') as f:\n",
        "    clf = pickle.load(f)\n",
        "\n",
        "y_pred = clf.predict(test['x'])\n",
        "\n",
        "flat_pred = [i for y in y_pred for i in y]\n",
        "flat_true = [i for y in test['y'] for i in y]\n",
        "\n",
        "conf = confusion_matrix(flat_true, flat_pred, labels=sorted_labels)\n",
        "\n",
        "conf_df = pd.DataFrame._from_arrays(conf, columns=sorted_labels, index=sorted_labels)\n",
        "\n",
        "# conf_df\n",
        "ax = sns.heatmap(data=conf_df, cmap='Blues')\n",
        "ax.set(xlabel='Predicted', ylabel='True')"
      ]
    },
    {
      "cell_type": "code",
      "execution_count": 26,
      "metadata": {},
      "outputs": [],
      "source": [
        "def sent_to_flat_frame(X):\n",
        "    '''Takes list of lists (sentences) of dicts (feature vectors) of features.\n",
        "    Returns multiindex where each row is a context window feature vector.\n",
        "    '''\n",
        "\n",
        "    flat_x = [(i,tok,sent) for sent,x in enumerate(X) for tok,i in enumerate(x)]\n",
        "    \n",
        "    features = [i for i,_,_ in flat_x]\n",
        "    token_id = [j for _,j,_ in flat_x]\n",
        "    sentence_id = [k for _,_,k in flat_x]\n",
        "\n",
        "\n",
        "    df = pd.DataFrame.from_records(features)\n",
        "    df['token_id'] = pd.Series(token_id)\n",
        "    df['sentence_id'] = pd.Series(sentence_id)\n",
        "    df.set_index(['sentence_id','token_id'], drop=True, inplace=True)\n",
        "\n",
        "    return df\n",
        "\n",
        "\n",
        "def importances(clf, scorer, X, y_true, labels, columns_to_shuffle=None, n_iters=3):\n",
        "    '''Shuffles the input on each feature column and reports the drop in performance.\n",
        "    '''\n",
        "\n",
        "    y_pred = clf.predict(X)\n",
        "    \n",
        "    base_score = scorer(y_true, y_pred, average='weighted', labels=labels)\n",
        "\n",
        "    reductions = {}\n",
        "\n",
        "    X_flat = sent_to_flat_frame(X)\n",
        "\n",
        "    if columns_to_shuffle is None:\n",
        "        columns_to_shuffle = X_flat.columns\n",
        "    \n",
        "    for c in columns_to_shuffle:\n",
        "        print(f'Shuffling on {c}')\n",
        "        reductions_c = []\n",
        "        for _ in range(n_iters):\n",
        "            X_flat_copy = X_flat.copy() \n",
        "            X_flat_copy[c] = np.random.permutation(X_flat[c].values)\n",
        "            sents = X_flat_copy.groupby(level='sentence_id'\n",
        "                              ).apply(lambda sent: [{k:v for k,v in m.items() if pd.notnull(v)} for m in sent.to_dict('records')])\n",
        "            y_pred = clf.predict(sents)\n",
        "            c_score = scorer(y_true, y_pred, average='weighted', labels=labels)\n",
        "            reductions_c.append(-c_score + base_score)\n",
        "        reductions[c] = reductions_c\n",
        "    \n",
        "    return (base_score,reductions)"
      ]
    },
    {
      "cell_type": "code",
      "execution_count": 0,
      "metadata": {},
      "outputs": [],
      "source": [
        "# Permutation importance\n",
        "\n",
        "models = ['crf_25_11_19_conll','crf_25_11_19_wnut','crf_27_11_19_mixed']\n",
        "test = dists['tweets']\n",
        "\n",
        "for model in models:\n",
        "\n",
        "    model_name = f'./models/{model}.pickle'\n",
        "\n",
        "    with open(model_name,'rb') as f:\n",
        "        clf = pickle.load(f)\n",
        "\n",
        "    log_print('Feature importances for '+model_name)\n",
        "\n",
        "    base_score, reductions = importances(clf, metrics.flat_f1_score, test['x'], test['y'], labels)\n",
        "\n",
        "    feature_importances = {k:{'mean':np.mean(v),'std':np.std(v)} for k,v in reductions.items()}\n",
        "    fi_sorted = sorted(feature_importances.items(), key=lambda x: x[1]['mean'], reverse=True)\n",
        "    \n",
        "    log_print(str(fi_sorted))\n"
      ]
    },
    {
      "cell_type": "code",
      "execution_count": 0,
      "metadata": {},
      "outputs": [],
      "source": [
        "fi_sorted"
      ]
    },
    {
      "cell_type": "code",
      "execution_count": 0,
      "metadata": {},
      "outputs": [],
      "source": [
        "# if os.name == 'nt':\n",
        "#     _x = [s['c1'] for s in rs.cv_results_['params']]\n",
        "#     _y = [s['c2'] for s in rs.cv_results_['params']]\n",
        "#     _c = [round(s,2) for s in rs.cv_results_['mean_test_score']]\n",
        "\n",
        "#     fig = plt.figure()\n",
        "#     fig.set_size_inches(12, 12)\n",
        "#     ax = plt.gca()\n",
        "#     ax.set_yscale('log')\n",
        "#     ax.set_xscale('log')\n",
        "#     ax.set_xlabel('C1')\n",
        "#     ax.set_ylabel('C2')\n",
        "#     ax.set_title(\"Randomized Hyperparameter Search Sampled CV Results (min={:0.3}, max={:0.3})\".format(\n",
        "#         min(_c), max(_c)\n",
        "#     ))\n",
        "\n",
        "#     sns.scatterplot(x=_x, y=_y, hue=_c, size=_c, ax=ax)\n",
        "\n",
        "#     # ax.scatter(_x, _y, c=_c, s=60, alpha=0.9, edgecolors=[0,0,0])\n",
        "\n",
        "#     print(f'Dark blue => {round(min(_c),3)}, dark red => {round(max(_c),3)}')\n",
        "\n",
        "#     logging.info('Evaluation successful.')"
      ]
    }
  ]
}